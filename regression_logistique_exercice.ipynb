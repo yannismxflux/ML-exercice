{
 "cells": [
  {
   "cell_type": "markdown",
   "metadata": {
    "colab_type": "text",
    "id": "0MRC0e0KhQ0S"
   },
   "source": [
    "#  REGRESSION LOGISTIQUE\n",
    "\n",
    "## introduction\n",
    "\n",
    "Dans cet exercice guidé nous allons pratiquer la régression logistique sous Python via les packages « statsmodels » et « scikit-learn ».\n",
    "  nous tâcherons de décrire les différentes étapes de la construction du modèle à son évaluation et la mesure de ses performances prédictives."
   ]
  },
  {
   "cell_type": "markdown",
   "metadata": {},
   "source": [
    "## Utilisation du package scikit-learn"
   ]
  },
  {
   "cell_type": "markdown",
   "metadata": {
    "colab_type": "text",
    "id": "LWd1UlMnhT2s"
   },
   "source": [
    "## Import des librairies\n",
    "\n",
    "Pour commencer nous allons utiliser uniquement le packages scikit-learn\n",
    "hormis les librairies classiques importez celle utilisée pour la regression logistique et celles pour les métriques necessaires (matrice de confusion, rapport des métriques)\n",
    "\n"
   ]
  },
  {
   "cell_type": "code",
   "execution_count": 121,
   "metadata": {
    "colab": {},
    "colab_type": "code",
    "id": "YvGPUQaHhXfL"
   },
   "outputs": [],
   "source": [
    "from matplotlib import pyplot as plt\n",
    "from sklearn.model_selection import train_test_split\n",
    "import pandas as pd\n",
    "from sklearn.linear_model import LogisticRegression\n",
    "from sklearn.metrics import confusion_matrix\n",
    "import seaborn as sns \n",
    "import numpy as np"
   ]
  },
  {
   "cell_type": "markdown",
   "metadata": {
    "colab_type": "text",
    "id": "K1VMqkGvhc3-"
   },
   "source": [
    "## Import du dataset\n",
    "\n",
    "Nous analysons dans cet exercice les facteurs de risque d'infidélité dans les ménages. NOus verrons que le facteur temps est bien évidemment un paramètre qui joue en faveur de l'infidélité. Mais pas seulement, d'autres variables également."
   ]
  },
  {
   "cell_type": "code",
   "execution_count": 122,
   "metadata": {
    "colab": {},
    "colab_type": "code",
    "id": "M52QDmyzhh9s"
   },
   "outputs": [
    {
     "data": {
      "text/html": [
       "<div>\n",
       "<style scoped>\n",
       "    .dataframe tbody tr th:only-of-type {\n",
       "        vertical-align: middle;\n",
       "    }\n",
       "\n",
       "    .dataframe tbody tr th {\n",
       "        vertical-align: top;\n",
       "    }\n",
       "\n",
       "    .dataframe thead th {\n",
       "        text-align: right;\n",
       "    }\n",
       "</style>\n",
       "<table border=\"1\" class=\"dataframe\">\n",
       "  <thead>\n",
       "    <tr style=\"text-align: right;\">\n",
       "      <th></th>\n",
       "      <th>Sex</th>\n",
       "      <th>Age</th>\n",
       "      <th>YearsMarried</th>\n",
       "      <th>Children</th>\n",
       "      <th>Religious</th>\n",
       "      <th>Education</th>\n",
       "      <th>Occupation</th>\n",
       "      <th>RatingMarriage</th>\n",
       "      <th>Infidelite</th>\n",
       "    </tr>\n",
       "  </thead>\n",
       "  <tbody>\n",
       "    <tr>\n",
       "      <th>0</th>\n",
       "      <td>0</td>\n",
       "      <td>22.0</td>\n",
       "      <td>0.75</td>\n",
       "      <td>0</td>\n",
       "      <td>2</td>\n",
       "      <td>18</td>\n",
       "      <td>6</td>\n",
       "      <td>5</td>\n",
       "      <td>0</td>\n",
       "    </tr>\n",
       "    <tr>\n",
       "      <th>1</th>\n",
       "      <td>0</td>\n",
       "      <td>32.0</td>\n",
       "      <td>15.00</td>\n",
       "      <td>1</td>\n",
       "      <td>3</td>\n",
       "      <td>14</td>\n",
       "      <td>1</td>\n",
       "      <td>2</td>\n",
       "      <td>1</td>\n",
       "    </tr>\n",
       "    <tr>\n",
       "      <th>2</th>\n",
       "      <td>1</td>\n",
       "      <td>27.0</td>\n",
       "      <td>4.00</td>\n",
       "      <td>1</td>\n",
       "      <td>4</td>\n",
       "      <td>20</td>\n",
       "      <td>5</td>\n",
       "      <td>5</td>\n",
       "      <td>0</td>\n",
       "    </tr>\n",
       "    <tr>\n",
       "      <th>3</th>\n",
       "      <td>0</td>\n",
       "      <td>22.0</td>\n",
       "      <td>1.50</td>\n",
       "      <td>0</td>\n",
       "      <td>2</td>\n",
       "      <td>16</td>\n",
       "      <td>4</td>\n",
       "      <td>5</td>\n",
       "      <td>0</td>\n",
       "    </tr>\n",
       "    <tr>\n",
       "      <th>4</th>\n",
       "      <td>0</td>\n",
       "      <td>27.0</td>\n",
       "      <td>7.00</td>\n",
       "      <td>1</td>\n",
       "      <td>3</td>\n",
       "      <td>14</td>\n",
       "      <td>1</td>\n",
       "      <td>4</td>\n",
       "      <td>0</td>\n",
       "    </tr>\n",
       "    <tr>\n",
       "      <th>5</th>\n",
       "      <td>0</td>\n",
       "      <td>22.0</td>\n",
       "      <td>1.50</td>\n",
       "      <td>1</td>\n",
       "      <td>5</td>\n",
       "      <td>14</td>\n",
       "      <td>5</td>\n",
       "      <td>3</td>\n",
       "      <td>1</td>\n",
       "    </tr>\n",
       "    <tr>\n",
       "      <th>6</th>\n",
       "      <td>0</td>\n",
       "      <td>17.5</td>\n",
       "      <td>0.75</td>\n",
       "      <td>0</td>\n",
       "      <td>5</td>\n",
       "      <td>14</td>\n",
       "      <td>4</td>\n",
       "      <td>5</td>\n",
       "      <td>1</td>\n",
       "    </tr>\n",
       "    <tr>\n",
       "      <th>7</th>\n",
       "      <td>0</td>\n",
       "      <td>42.0</td>\n",
       "      <td>15.00</td>\n",
       "      <td>1</td>\n",
       "      <td>4</td>\n",
       "      <td>14</td>\n",
       "      <td>1</td>\n",
       "      <td>2</td>\n",
       "      <td>1</td>\n",
       "    </tr>\n",
       "    <tr>\n",
       "      <th>8</th>\n",
       "      <td>0</td>\n",
       "      <td>22.0</td>\n",
       "      <td>4.00</td>\n",
       "      <td>1</td>\n",
       "      <td>3</td>\n",
       "      <td>16</td>\n",
       "      <td>1</td>\n",
       "      <td>3</td>\n",
       "      <td>1</td>\n",
       "    </tr>\n",
       "    <tr>\n",
       "      <th>9</th>\n",
       "      <td>0</td>\n",
       "      <td>32.0</td>\n",
       "      <td>10.00</td>\n",
       "      <td>1</td>\n",
       "      <td>3</td>\n",
       "      <td>14</td>\n",
       "      <td>1</td>\n",
       "      <td>5</td>\n",
       "      <td>0</td>\n",
       "    </tr>\n",
       "  </tbody>\n",
       "</table>\n",
       "</div>"
      ],
      "text/plain": [
       "   Sex   Age  YearsMarried  Children  Religious  Education  Occupation  \\\n",
       "0    0  22.0          0.75         0          2         18           6   \n",
       "1    0  32.0         15.00         1          3         14           1   \n",
       "2    1  27.0          4.00         1          4         20           5   \n",
       "3    0  22.0          1.50         0          2         16           4   \n",
       "4    0  27.0          7.00         1          3         14           1   \n",
       "5    0  22.0          1.50         1          5         14           5   \n",
       "6    0  17.5          0.75         0          5         14           4   \n",
       "7    0  42.0         15.00         1          4         14           1   \n",
       "8    0  22.0          4.00         1          3         16           1   \n",
       "9    0  32.0         10.00         1          3         14           1   \n",
       "\n",
       "   RatingMarriage  Infidelite  \n",
       "0               5           0  \n",
       "1               2           1  \n",
       "2               5           0  \n",
       "3               5           0  \n",
       "4               4           0  \n",
       "5               3           1  \n",
       "6               5           1  \n",
       "7               2           1  \n",
       "8               3           1  \n",
       "9               5           0  "
      ]
     },
     "execution_count": 122,
     "metadata": {},
     "output_type": "execute_result"
    }
   ],
   "source": [
    "#importez votre dataset\n",
    "df = pd.read_excel(\"dataset_infidelites.xlsx\",)\n",
    "\n",
    "df.head(10)"
   ]
  },
  {
   "cell_type": "markdown",
   "metadata": {},
   "source": [
    "## descrivez et visualisez votre dataset"
   ]
  },
  {
   "cell_type": "markdown",
   "metadata": {},
   "source": [
    "# 1. Exploratory Data Analysis\n",
    "\n",
    "## Objectif :\n",
    "- Comprendre du mieux possible nos données (un petit pas en avant vaut mieux qu'un grand pas en arriere)\n",
    "- Développer une premiere stratégie de modélisation \n",
    "\n",
    "## Checklist de base\n",
    "#### Analyse de Forme :\n",
    "- **variable target** : Infidelity\n",
    "- **lignes et colonnes** : (601, 9)\n",
    "- **types de variables** : qualitatives : 7, quantitatives : 2 (besoin d'une description de la source)\n",
    "- **Analyse des valeurs manquantes** :\n",
    "   Aucune \n",
    "\n",
    "#### Analyse de Fond :\n",
    "- **Visualisation de la target** :\n",
    "  Fidele    451/601\n",
    "  Infidele  150//601\n",
    "    \n",
    "    \n",
    "    \n",
    "- **Signification des variables** :\n",
    "    -  Les differentes variables explicative semble représenter differente echelle de niveau sauf pour certaine valeur et des booleans pour d'autre l'age et les années de mariage\n",
    "    - la colonne religious semble representer un niveau de foi à verifier \n",
    "\n",
    "\n",
    "\n",
    "- **Relation Variables / Target** :\n",
    "    La qualité du mariage semble être la valeur qui a le plus d'incidence sur notre target infidelite\n",
    "    \n",
    "    \n",
    "    \n",
    "## Analyse plus détaillée\n",
    "\n",
    "- **Relation Variables / Variables** :\n",
    "    - Il y a une forte correlation entre l'age et les années de mariage ce qui semble logique une fusion des deux colonnes peut etre envisagé\n",
    "\n",
    "\n",
    "\n",
    "\n",
    "### hypotheses nulle : \n",
    "\n",
    "\n",
    "  - les données ne semble pas assez riche pour le modele de regression \n",
    "    "
   ]
  },
  {
   "cell_type": "code",
   "execution_count": 123,
   "metadata": {},
   "outputs": [
    {
     "name": "stdout",
     "output_type": "stream",
     "text": [
      "<class 'pandas.core.frame.DataFrame'>\n",
      "RangeIndex: 601 entries, 0 to 600\n",
      "Data columns (total 9 columns):\n",
      " #   Column          Non-Null Count  Dtype  \n",
      "---  ------          --------------  -----  \n",
      " 0   Sex             601 non-null    int64  \n",
      " 1   Age             601 non-null    float64\n",
      " 2   YearsMarried    601 non-null    float64\n",
      " 3   Children        601 non-null    int64  \n",
      " 4   Religious       601 non-null    int64  \n",
      " 5   Education       601 non-null    int64  \n",
      " 6   Occupation      601 non-null    int64  \n",
      " 7   RatingMarriage  601 non-null    int64  \n",
      " 8   Infidelite      601 non-null    int64  \n",
      "dtypes: float64(2), int64(7)\n",
      "memory usage: 42.4 KB\n",
      "None\n",
      "(601, 9)\n"
     ]
    },
    {
     "data": {
      "text/html": [
       "<div>\n",
       "<style scoped>\n",
       "    .dataframe tbody tr th:only-of-type {\n",
       "        vertical-align: middle;\n",
       "    }\n",
       "\n",
       "    .dataframe tbody tr th {\n",
       "        vertical-align: top;\n",
       "    }\n",
       "\n",
       "    .dataframe thead th {\n",
       "        text-align: right;\n",
       "    }\n",
       "</style>\n",
       "<table border=\"1\" class=\"dataframe\">\n",
       "  <thead>\n",
       "    <tr style=\"text-align: right;\">\n",
       "      <th></th>\n",
       "      <th>Sex</th>\n",
       "      <th>Age</th>\n",
       "      <th>YearsMarried</th>\n",
       "      <th>Children</th>\n",
       "      <th>Religious</th>\n",
       "      <th>Education</th>\n",
       "      <th>Occupation</th>\n",
       "      <th>RatingMarriage</th>\n",
       "      <th>Infidelite</th>\n",
       "    </tr>\n",
       "  </thead>\n",
       "  <tbody>\n",
       "    <tr>\n",
       "      <th>count</th>\n",
       "      <td>601.000000</td>\n",
       "      <td>601.000000</td>\n",
       "      <td>601.000000</td>\n",
       "      <td>601.000000</td>\n",
       "      <td>601.000000</td>\n",
       "      <td>601.000000</td>\n",
       "      <td>601.000000</td>\n",
       "      <td>601.000000</td>\n",
       "      <td>601.000000</td>\n",
       "    </tr>\n",
       "    <tr>\n",
       "      <th>mean</th>\n",
       "      <td>0.475874</td>\n",
       "      <td>32.487521</td>\n",
       "      <td>8.177696</td>\n",
       "      <td>0.715474</td>\n",
       "      <td>3.116473</td>\n",
       "      <td>16.166389</td>\n",
       "      <td>4.194676</td>\n",
       "      <td>3.931780</td>\n",
       "      <td>0.249584</td>\n",
       "    </tr>\n",
       "    <tr>\n",
       "      <th>std</th>\n",
       "      <td>0.499834</td>\n",
       "      <td>9.288762</td>\n",
       "      <td>5.571303</td>\n",
       "      <td>0.451564</td>\n",
       "      <td>1.167509</td>\n",
       "      <td>2.402555</td>\n",
       "      <td>1.819443</td>\n",
       "      <td>1.103179</td>\n",
       "      <td>0.433133</td>\n",
       "    </tr>\n",
       "    <tr>\n",
       "      <th>min</th>\n",
       "      <td>0.000000</td>\n",
       "      <td>17.500000</td>\n",
       "      <td>0.125000</td>\n",
       "      <td>0.000000</td>\n",
       "      <td>1.000000</td>\n",
       "      <td>9.000000</td>\n",
       "      <td>1.000000</td>\n",
       "      <td>1.000000</td>\n",
       "      <td>0.000000</td>\n",
       "    </tr>\n",
       "    <tr>\n",
       "      <th>25%</th>\n",
       "      <td>0.000000</td>\n",
       "      <td>27.000000</td>\n",
       "      <td>4.000000</td>\n",
       "      <td>0.000000</td>\n",
       "      <td>2.000000</td>\n",
       "      <td>14.000000</td>\n",
       "      <td>3.000000</td>\n",
       "      <td>3.000000</td>\n",
       "      <td>0.000000</td>\n",
       "    </tr>\n",
       "    <tr>\n",
       "      <th>50%</th>\n",
       "      <td>0.000000</td>\n",
       "      <td>32.000000</td>\n",
       "      <td>7.000000</td>\n",
       "      <td>1.000000</td>\n",
       "      <td>3.000000</td>\n",
       "      <td>16.000000</td>\n",
       "      <td>5.000000</td>\n",
       "      <td>4.000000</td>\n",
       "      <td>0.000000</td>\n",
       "    </tr>\n",
       "    <tr>\n",
       "      <th>75%</th>\n",
       "      <td>1.000000</td>\n",
       "      <td>37.000000</td>\n",
       "      <td>15.000000</td>\n",
       "      <td>1.000000</td>\n",
       "      <td>4.000000</td>\n",
       "      <td>18.000000</td>\n",
       "      <td>6.000000</td>\n",
       "      <td>5.000000</td>\n",
       "      <td>0.000000</td>\n",
       "    </tr>\n",
       "    <tr>\n",
       "      <th>max</th>\n",
       "      <td>1.000000</td>\n",
       "      <td>57.000000</td>\n",
       "      <td>15.000000</td>\n",
       "      <td>1.000000</td>\n",
       "      <td>5.000000</td>\n",
       "      <td>20.000000</td>\n",
       "      <td>7.000000</td>\n",
       "      <td>5.000000</td>\n",
       "      <td>1.000000</td>\n",
       "    </tr>\n",
       "  </tbody>\n",
       "</table>\n",
       "</div>"
      ],
      "text/plain": [
       "              Sex         Age  YearsMarried    Children   Religious  \\\n",
       "count  601.000000  601.000000    601.000000  601.000000  601.000000   \n",
       "mean     0.475874   32.487521      8.177696    0.715474    3.116473   \n",
       "std      0.499834    9.288762      5.571303    0.451564    1.167509   \n",
       "min      0.000000   17.500000      0.125000    0.000000    1.000000   \n",
       "25%      0.000000   27.000000      4.000000    0.000000    2.000000   \n",
       "50%      0.000000   32.000000      7.000000    1.000000    3.000000   \n",
       "75%      1.000000   37.000000     15.000000    1.000000    4.000000   \n",
       "max      1.000000   57.000000     15.000000    1.000000    5.000000   \n",
       "\n",
       "        Education  Occupation  RatingMarriage  Infidelite  \n",
       "count  601.000000  601.000000      601.000000  601.000000  \n",
       "mean    16.166389    4.194676        3.931780    0.249584  \n",
       "std      2.402555    1.819443        1.103179    0.433133  \n",
       "min      9.000000    1.000000        1.000000    0.000000  \n",
       "25%     14.000000    3.000000        3.000000    0.000000  \n",
       "50%     16.000000    5.000000        4.000000    0.000000  \n",
       "75%     18.000000    6.000000        5.000000    0.000000  \n",
       "max     20.000000    7.000000        5.000000    1.000000  "
      ]
     },
     "execution_count": 123,
     "metadata": {},
     "output_type": "execute_result"
    }
   ],
   "source": [
    "#décrivez rapidement votre jeu de données\n",
    "# print(df.describe())\n",
    "print(df.info())\n",
    "\n",
    "print(df.shape)\n",
    "\n",
    "df.describe()\n",
    "#Réalisez une brève analyse exploratoire\n",
    "# en affichant la matrice de correlation\n",
    "# en visualisant les variables les plus pertinentes\n",
    "# A premières vues , qu'en déduisez vous ? \n",
    "\n"
   ]
  },
  {
   "cell_type": "markdown",
   "metadata": {},
   "source": [
    "Notre dataset a une shape de 601 lignes pour 9 colonnes :  \n",
    " - Sex               \n",
    " - Age             \n",
    " - YearsMarried    \n",
    " - Children          \n",
    " - Religious          \n",
    " - Education          \n",
    " - Occupation          \n",
    " - RatingMarriage     \n",
    " - Infidelite         \n",
    "\n",
    "Notre colonne target est la colonne infidelite contenant des valeurs binaire, 1 si l'individu est infidele et 0 si il ne l'est pas.\n",
    "\n",
    "\n"
   ]
  },
  {
   "cell_type": "markdown",
   "metadata": {},
   "source": []
  },
  {
   "cell_type": "markdown",
   "metadata": {},
   "source": [
    "## Proportion des classes target dans le dataset"
   ]
  },
  {
   "cell_type": "code",
   "execution_count": 124,
   "metadata": {},
   "outputs": [
    {
     "data": {
      "text/plain": [
       "0    0.750416\n",
       "1    0.249584\n",
       "Name: Infidelite, dtype: float64"
      ]
     },
     "execution_count": 124,
     "metadata": {},
     "output_type": "execute_result"
    }
   ],
   "source": [
    "df.Infidelite.value_counts(normalize=True)"
   ]
  },
  {
   "cell_type": "code",
   "execution_count": null,
   "metadata": {},
   "outputs": [],
   "source": []
  },
  {
   "cell_type": "markdown",
   "metadata": {},
   "source": []
  },
  {
   "cell_type": "code",
   "execution_count": 125,
   "metadata": {},
   "outputs": [],
   "source": [
    "infidele= df[df['Infidelite']==1]\n",
    "\n"
   ]
  },
  {
   "cell_type": "code",
   "execution_count": 126,
   "metadata": {},
   "outputs": [],
   "source": [
    "fidele= df[df['Infidelite']==0]"
   ]
  },
  {
   "cell_type": "code",
   "execution_count": 1,
   "metadata": {},
   "outputs": [
    {
     "ename": "NameError",
     "evalue": "name 'df' is not defined",
     "output_type": "error",
     "traceback": [
      "\u001b[0;31m---------------------------------------------------------------------------\u001b[0m",
      "\u001b[0;31mNameError\u001b[0m                                 Traceback (most recent call last)",
      "\u001b[0;32m/var/folders/9w/_gq9qb094nzcrhm6mzrk08g80000gn/T/ipykernel_3909/3184965080.py\u001b[0m in \u001b[0;36m<module>\u001b[0;34m\u001b[0m\n\u001b[0;32m----> 1\u001b[0;31m \u001b[0;32mfor\u001b[0m \u001b[0mcol\u001b[0m \u001b[0;32min\u001b[0m \u001b[0mdf\u001b[0m\u001b[0;34m:\u001b[0m\u001b[0;34m\u001b[0m\u001b[0;34m\u001b[0m\u001b[0m\n\u001b[0m\u001b[1;32m      2\u001b[0m     \u001b[0mplt\u001b[0m\u001b[0;34m.\u001b[0m\u001b[0mfigure\u001b[0m\u001b[0;34m(\u001b[0m\u001b[0;34m)\u001b[0m\u001b[0;34m\u001b[0m\u001b[0;34m\u001b[0m\u001b[0m\n\u001b[1;32m      3\u001b[0m     \u001b[0msns\u001b[0m\u001b[0;34m.\u001b[0m\u001b[0mhistplot\u001b[0m\u001b[0;34m(\u001b[0m\u001b[0minfidele\u001b[0m\u001b[0;34m[\u001b[0m\u001b[0mcol\u001b[0m\u001b[0;34m]\u001b[0m\u001b[0;34m,\u001b[0m \u001b[0mcolor\u001b[0m\u001b[0;34m=\u001b[0m\u001b[0;34m\"red\"\u001b[0m\u001b[0;34m,\u001b[0m \u001b[0mlabel\u001b[0m\u001b[0;34m=\u001b[0m\u001b[0;34m\"infidele\"\u001b[0m\u001b[0;34m,\u001b[0m \u001b[0mkde\u001b[0m\u001b[0;34m=\u001b[0m\u001b[0;32mTrue\u001b[0m\u001b[0;34m,\u001b[0m \u001b[0mstat\u001b[0m\u001b[0;34m=\u001b[0m\u001b[0;34m\"density\"\u001b[0m\u001b[0;34m,\u001b[0m \u001b[0mlinewidth\u001b[0m\u001b[0;34m=\u001b[0m\u001b[0;36m0\u001b[0m\u001b[0;34m)\u001b[0m\u001b[0;34m\u001b[0m\u001b[0;34m\u001b[0m\u001b[0m\n\u001b[1;32m      4\u001b[0m     \u001b[0msns\u001b[0m\u001b[0;34m.\u001b[0m\u001b[0mhistplot\u001b[0m\u001b[0;34m(\u001b[0m\u001b[0mfidele\u001b[0m\u001b[0;34m[\u001b[0m\u001b[0mcol\u001b[0m\u001b[0;34m]\u001b[0m\u001b[0;34m,\u001b[0m \u001b[0mcolor\u001b[0m\u001b[0;34m=\u001b[0m\u001b[0;34m\"blue\"\u001b[0m\u001b[0;34m,\u001b[0m \u001b[0mlabel\u001b[0m\u001b[0;34m=\u001b[0m\u001b[0;34m\"fidele\"\u001b[0m\u001b[0;34m,\u001b[0m \u001b[0mkde\u001b[0m\u001b[0;34m=\u001b[0m\u001b[0;32mTrue\u001b[0m\u001b[0;34m,\u001b[0m \u001b[0mstat\u001b[0m\u001b[0;34m=\u001b[0m\u001b[0;34m\"density\"\u001b[0m\u001b[0;34m,\u001b[0m \u001b[0mlinewidth\u001b[0m\u001b[0;34m=\u001b[0m\u001b[0;36m0\u001b[0m\u001b[0;34m)\u001b[0m\u001b[0;34m\u001b[0m\u001b[0;34m\u001b[0m\u001b[0m\n\u001b[1;32m      5\u001b[0m     \u001b[0mplt\u001b[0m\u001b[0;34m.\u001b[0m\u001b[0mlegend\u001b[0m\u001b[0;34m(\u001b[0m\u001b[0;34m)\u001b[0m\u001b[0;34m\u001b[0m\u001b[0;34m\u001b[0m\u001b[0m\n",
      "\u001b[0;31mNameError\u001b[0m: name 'df' is not defined"
     ]
    }
   ],
   "source": [
    "for col in df:\n",
    "    plt.figure()\n",
    "    sns.histplot(infidele[col], color=\"red\", label=\"infidele\", kde=True, stat=\"density\", linewidth=0)\n",
    "    sns.histplot(fidele[col], color=\"blue\", label=\"fidele\", kde=True, stat=\"density\", linewidth=0)\n",
    "    plt.legend()\n",
    " "
   ]
  },
  {
   "cell_type": "code",
   "execution_count": 128,
   "metadata": {},
   "outputs": [
    {
     "data": {
      "application/vnd.plotly.v1+json": {
       "config": {
        "plotlyServerURL": "https://plot.ly"
       },
       "data": [
        {
         "hovertemplate": "Religious=%{x}<br>RatingMarriage=%{y}<br>Infidelite=%{marker.color}<extra></extra>",
         "legendgroup": "",
         "marker": {
          "color": [
           0,
           1,
           0,
           0,
           0,
           1,
           1,
           1,
           1,
           0,
           0,
           1,
           0,
           0,
           0,
           1,
           0,
           0,
           1,
           0,
           0,
           0,
           0,
           1,
           0,
           0,
           0,
           0,
           0,
           0,
           0,
           0,
           0,
           0,
           0,
           0,
           0,
           0,
           0,
           0,
           0,
           0,
           1,
           0,
           0,
           1,
           0,
           1,
           0,
           1,
           0,
           0,
           0,
           0,
           0,
           0,
           1,
           1,
           0,
           0,
           0,
           1,
           1,
           0,
           0,
           0,
           0,
           1,
           0,
           0,
           1,
           0,
           1,
           0,
           0,
           1,
           0,
           0,
           0,
           0,
           0,
           0,
           0,
           0,
           0,
           0,
           1,
           1,
           0,
           0,
           0,
           1,
           0,
           0,
           0,
           1,
           0,
           0,
           1,
           0,
           1,
           0,
           1,
           0,
           0,
           0,
           0,
           0,
           0,
           0,
           0,
           0,
           0,
           0,
           0,
           1,
           0,
           0,
           1,
           1,
           0,
           0,
           0,
           0,
           0,
           0,
           0,
           0,
           1,
           0,
           1,
           0,
           0,
           1,
           0,
           0,
           1,
           0,
           1,
           0,
           0,
           1,
           1,
           1,
           1,
           0,
           0,
           1,
           0,
           0,
           0,
           0,
           0,
           0,
           0,
           0,
           0,
           1,
           0,
           0,
           0,
           0,
           0,
           0,
           0,
           0,
           0,
           0,
           1,
           0,
           1,
           0,
           1,
           1,
           0,
           0,
           0,
           0,
           1,
           1,
           0,
           0,
           0,
           0,
           0,
           0,
           0,
           1,
           0,
           0,
           0,
           0,
           0,
           0,
           0,
           0,
           0,
           0,
           0,
           0,
           0,
           0,
           1,
           1,
           0,
           0,
           1,
           1,
           0,
           0,
           0,
           0,
           1,
           0,
           0,
           0,
           0,
           1,
           1,
           0,
           0,
           0,
           1,
           0,
           1,
           0,
           0,
           0,
           0,
           0,
           0,
           0,
           0,
           1,
           0,
           0,
           0,
           0,
           0,
           0,
           1,
           0,
           0,
           0,
           0,
           0,
           0,
           0,
           0,
           1,
           0,
           0,
           1,
           0,
           0,
           0,
           1,
           1,
           1,
           0,
           0,
           1,
           1,
           0,
           1,
           0,
           0,
           0,
           1,
           0,
           1,
           0,
           0,
           0,
           0,
           0,
           1,
           1,
           0,
           1,
           0,
           0,
           1,
           1,
           1,
           0,
           1,
           1,
           1,
           0,
           0,
           0,
           0,
           1,
           0,
           0,
           0,
           1,
           1,
           0,
           0,
           1,
           0,
           1,
           0,
           1,
           0,
           0,
           1,
           0,
           0,
           0,
           0,
           0,
           1,
           0,
           0,
           0,
           0,
           0,
           0,
           0,
           0,
           1,
           0,
           0,
           0,
           0,
           0,
           0,
           0,
           0,
           0,
           0,
           0,
           0,
           1,
           0,
           0,
           0,
           0,
           1,
           0,
           0,
           1,
           1,
           0,
           0,
           0,
           0,
           1,
           0,
           0,
           1,
           1,
           0,
           0,
           0,
           0,
           0,
           0,
           0,
           0,
           0,
           1,
           0,
           0,
           0,
           0,
           1,
           1,
           1,
           0,
           0,
           0,
           0,
           0,
           1,
           0,
           0,
           0,
           0,
           0,
           1,
           1,
           0,
           1,
           0,
           0,
           0,
           0,
           0,
           0,
           0,
           1,
           1,
           0,
           1,
           0,
           0,
           0,
           0,
           0,
           1,
           0,
           0,
           0,
           0,
           0,
           0,
           0,
           0,
           1,
           0,
           0,
           0,
           0,
           0,
           1,
           0,
           1,
           0,
           0,
           0,
           0,
           0,
           0,
           0,
           0,
           0,
           0,
           0,
           0,
           1,
           1,
           0,
           1,
           0,
           1,
           0,
           0,
           0,
           0,
           0,
           1,
           0,
           0,
           0,
           0,
           0,
           0,
           0,
           0,
           1,
           0,
           0,
           0,
           0,
           0,
           0,
           0,
           1,
           0,
           0,
           0,
           1,
           0,
           0,
           1,
           0,
           1,
           0,
           0,
           0,
           1,
           1,
           0,
           0,
           0,
           0,
           0,
           1,
           0,
           1,
           1,
           0,
           0,
           0,
           1,
           0,
           0,
           0,
           0,
           1,
           0,
           0,
           0,
           1,
           0,
           0,
           1,
           0,
           0,
           0,
           1,
           0,
           0,
           0,
           0,
           0,
           0,
           0,
           0,
           0,
           0,
           0,
           0,
           0,
           1,
           1,
           1,
           0,
           0,
           0,
           0,
           1,
           1,
           0,
           1,
           0,
           0,
           0,
           0,
           0,
           0,
           0,
           1,
           0,
           0,
           0,
           0,
           0,
           1,
           0,
           1,
           0,
           0,
           0,
           0,
           0,
           1,
           1,
           1,
           0,
           0,
           0,
           0,
           0,
           0,
           0,
           0,
           0,
           0,
           0,
           0,
           0,
           0,
           1,
           0,
           0,
           0,
           0,
           0,
           0,
           0,
           1,
           0,
           0,
           1,
           0,
           0,
           0,
           0,
           1,
           0,
           1,
           0,
           1,
           0,
           0,
           1,
           0,
           0,
           0,
           0,
           0,
           1,
           0,
           0,
           0,
           0
          ],
          "coloraxis": "coloraxis",
          "symbol": "circle"
         },
         "mode": "markers",
         "name": "",
         "scene": "scene",
         "showlegend": false,
         "type": "scatter3d",
         "x": [
          2,
          3,
          4,
          2,
          3,
          5,
          5,
          4,
          3,
          3,
          4,
          3,
          2,
          5,
          3,
          5,
          4,
          4,
          3,
          3,
          3,
          4,
          5,
          1,
          3,
          4,
          4,
          4,
          2,
          4,
          5,
          1,
          3,
          4,
          3,
          3,
          4,
          3,
          2,
          4,
          2,
          2,
          5,
          4,
          4,
          5,
          5,
          4,
          2,
          5,
          2,
          1,
          2,
          4,
          4,
          3,
          2,
          3,
          2,
          4,
          2,
          2,
          5,
          2,
          4,
          3,
          4,
          2,
          4,
          2,
          4,
          2,
          4,
          5,
          5,
          3,
          5,
          5,
          4,
          3,
          2,
          4,
          4,
          2,
          3,
          5,
          4,
          3,
          2,
          3,
          1,
          1,
          5,
          4,
          1,
          3,
          1,
          4,
          4,
          2,
          2,
          2,
          4,
          4,
          5,
          4,
          2,
          2,
          2,
          1,
          3,
          2,
          3,
          5,
          4,
          3,
          2,
          3,
          1,
          4,
          4,
          4,
          3,
          3,
          5,
          2,
          4,
          2,
          4,
          2,
          2,
          5,
          4,
          3,
          3,
          5,
          4,
          3,
          1,
          2,
          3,
          2,
          3,
          4,
          4,
          3,
          5,
          3,
          2,
          4,
          2,
          4,
          3,
          1,
          4,
          4,
          2,
          3,
          4,
          3,
          4,
          3,
          4,
          4,
          3,
          2,
          1,
          4,
          1,
          3,
          3,
          2,
          2,
          5,
          2,
          3,
          3,
          4,
          4,
          4,
          4,
          5,
          4,
          2,
          1,
          2,
          1,
          2,
          4,
          2,
          3,
          3,
          5,
          4,
          4,
          2,
          5,
          2,
          2,
          4,
          2,
          2,
          3,
          3,
          3,
          2,
          2,
          1,
          2,
          2,
          4,
          4,
          2,
          5,
          2,
          2,
          3,
          3,
          5,
          2,
          2,
          5,
          5,
          2,
          2,
          4,
          2,
          4,
          2,
          1,
          3,
          4,
          3,
          2,
          2,
          4,
          2,
          5,
          4,
          3,
          4,
          5,
          4,
          3,
          5,
          5,
          2,
          5,
          3,
          3,
          1,
          4,
          3,
          2,
          4,
          4,
          2,
          4,
          4,
          2,
          4,
          2,
          4,
          3,
          1,
          4,
          4,
          2,
          2,
          4,
          2,
          4,
          3,
          2,
          2,
          5,
          3,
          1,
          4,
          3,
          4,
          5,
          3,
          5,
          1,
          4,
          2,
          1,
          4,
          4,
          4,
          2,
          5,
          1,
          3,
          4,
          2,
          1,
          2,
          3,
          4,
          3,
          5,
          4,
          1,
          4,
          4,
          5,
          3,
          4,
          4,
          2,
          4,
          3,
          3,
          3,
          2,
          2,
          2,
          4,
          4,
          2,
          4,
          4,
          2,
          2,
          4,
          2,
          2,
          4,
          4,
          3,
          2,
          2,
          2,
          4,
          2,
          4,
          3,
          5,
          4,
          2,
          3,
          4,
          1,
          3,
          4,
          5,
          2,
          2,
          5,
          4,
          2,
          3,
          1,
          5,
          4,
          4,
          4,
          5,
          4,
          1,
          2,
          3,
          3,
          1,
          4,
          4,
          4,
          4,
          2,
          2,
          4,
          3,
          4,
          4,
          2,
          3,
          4,
          4,
          3,
          3,
          3,
          3,
          3,
          3,
          3,
          2,
          2,
          2,
          4,
          5,
          4,
          4,
          2,
          3,
          2,
          2,
          5,
          2,
          3,
          4,
          1,
          3,
          3,
          2,
          3,
          2,
          4,
          2,
          4,
          4,
          1,
          2,
          4,
          1,
          5,
          4,
          3,
          5,
          4,
          2,
          5,
          3,
          3,
          3,
          2,
          4,
          5,
          2,
          2,
          1,
          2,
          2,
          3,
          4,
          2,
          2,
          2,
          2,
          4,
          4,
          2,
          5,
          2,
          1,
          3,
          4,
          3,
          1,
          2,
          3,
          2,
          4,
          1,
          4,
          2,
          5,
          4,
          4,
          1,
          1,
          5,
          3,
          1,
          2,
          4,
          5,
          2,
          2,
          3,
          3,
          2,
          2,
          3,
          5,
          4,
          3,
          5,
          3,
          4,
          3,
          4,
          3,
          2,
          2,
          4,
          4,
          4,
          5,
          2,
          4,
          4,
          4,
          3,
          1,
          1,
          2,
          5,
          3,
          4,
          3,
          2,
          4,
          1,
          4,
          2,
          5,
          4,
          2,
          1,
          3,
          4,
          5,
          3,
          4,
          4,
          4,
          1,
          2,
          4,
          2,
          4,
          3,
          2,
          3,
          4,
          4,
          2,
          3,
          4,
          4,
          4,
          2,
          3,
          4,
          4,
          3,
          4,
          4,
          3,
          5,
          4,
          4,
          2,
          5,
          4,
          3,
          4,
          2,
          2,
          2,
          2,
          4,
          4,
          4,
          4,
          3,
          2,
          3,
          4,
          2,
          2,
          4,
          5,
          3,
          3,
          4,
          4,
          2,
          3,
          4,
          5,
          1,
          1,
          2,
          2,
          5,
          1,
          3,
          3,
          4,
          4,
          3,
          4,
          1,
          2,
          2,
          2,
          4,
          2,
          4,
          4,
          5,
          5,
          2,
          3,
          2,
          2,
          4,
          2
         ],
         "y": [
          5,
          2,
          5,
          5,
          4,
          3,
          5,
          2,
          3,
          5,
          5,
          2,
          4,
          5,
          5,
          4,
          4,
          4,
          4,
          4,
          4,
          4,
          3,
          4,
          4,
          3,
          5,
          4,
          4,
          5,
          5,
          4,
          4,
          4,
          4,
          3,
          4,
          2,
          3,
          4,
          5,
          5,
          2,
          4,
          4,
          3,
          3,
          5,
          5,
          5,
          5,
          5,
          5,
          5,
          3,
          4,
          4,
          4,
          5,
          2,
          4,
          4,
          5,
          4,
          4,
          3,
          4,
          4,
          4,
          4,
          5,
          5,
          2,
          5,
          5,
          3,
          3,
          5,
          5,
          4,
          5,
          3,
          4,
          5,
          5,
          4,
          5,
          4,
          2,
          5,
          5,
          5,
          1,
          3,
          4,
          4,
          5,
          3,
          4,
          5,
          3,
          2,
          5,
          4,
          5,
          5,
          5,
          4,
          1,
          4,
          2,
          5,
          4,
          2,
          4,
          4,
          5,
          5,
          3,
          5,
          2,
          4,
          4,
          1,
          5,
          3,
          4,
          5,
          4,
          4,
          2,
          4,
          1,
          2,
          5,
          4,
          4,
          5,
          2,
          3,
          5,
          2,
          5,
          4,
          1,
          5,
          4,
          4,
          3,
          4,
          5,
          4,
          5,
          4,
          4,
          5,
          4,
          4,
          5,
          4,
          4,
          5,
          5,
          5,
          4,
          3,
          5,
          5,
          2,
          2,
          4,
          5,
          4,
          4,
          4,
          5,
          5,
          4,
          2,
          2,
          5,
          4,
          5,
          5,
          5,
          5,
          5,
          5,
          5,
          3,
          3,
          4,
          5,
          5,
          4,
          3,
          5,
          4,
          4,
          3,
          5,
          5,
          2,
          2,
          3,
          1,
          2,
          2,
          3,
          3,
          4,
          4,
          4,
          4,
          4,
          3,
          5,
          2,
          1,
          1,
          5,
          3,
          4,
          4,
          4,
          3,
          3,
          5,
          4,
          5,
          4,
          5,
          5,
          5,
          4,
          3,
          5,
          4,
          5,
          5,
          2,
          2,
          5,
          3,
          5,
          4,
          5,
          5,
          4,
          4,
          4,
          4,
          2,
          5,
          5,
          4,
          5,
          3,
          2,
          5,
          4,
          2,
          4,
          4,
          5,
          5,
          4,
          5,
          3,
          5,
          4,
          2,
          4,
          2,
          5,
          5,
          4,
          5,
          3,
          3,
          5,
          2,
          5,
          5,
          3,
          5,
          3,
          5,
          4,
          5,
          5,
          4,
          5,
          4,
          5,
          5,
          3,
          1,
          1,
          4,
          3,
          5,
          5,
          5,
          5,
          3,
          4,
          4,
          2,
          4,
          3,
          5,
          5,
          4,
          1,
          5,
          4,
          3,
          1,
          5,
          2,
          5,
          4,
          4,
          4,
          2,
          4,
          4,
          4,
          4,
          3,
          4,
          2,
          2,
          5,
          5,
          3,
          3,
          5,
          4,
          3,
          4,
          2,
          4,
          3,
          3,
          3,
          3,
          5,
          5,
          5,
          5,
          4,
          3,
          3,
          4,
          5,
          3,
          5,
          5,
          5,
          4,
          5,
          4,
          1,
          4,
          3,
          5,
          5,
          4,
          5,
          2,
          2,
          5,
          2,
          4,
          4,
          3,
          3,
          4,
          5,
          3,
          5,
          3,
          3,
          3,
          5,
          2,
          4,
          5,
          5,
          4,
          5,
          4,
          5,
          2,
          4,
          4,
          5,
          4,
          5,
          5,
          4,
          4,
          3,
          5,
          5,
          5,
          5,
          2,
          4,
          4,
          3,
          3,
          5,
          4,
          5,
          4,
          4,
          4,
          1,
          4,
          4,
          5,
          2,
          4,
          4,
          5,
          4,
          5,
          4,
          4,
          5,
          2,
          4,
          5,
          2,
          3,
          4,
          5,
          3,
          4,
          4,
          4,
          4,
          4,
          5,
          5,
          5,
          4,
          5,
          5,
          2,
          5,
          4,
          4,
          5,
          5,
          5,
          5,
          5,
          5,
          3,
          3,
          5,
          4,
          4,
          5,
          3,
          3,
          1,
          5,
          4,
          3,
          3,
          2,
          3,
          5,
          3,
          4,
          4,
          4,
          5,
          2,
          5,
          4,
          4,
          5,
          4,
          5,
          2,
          2,
          5,
          3,
          3,
          5,
          5,
          5,
          3,
          5,
          5,
          5,
          5,
          4,
          5,
          3,
          2,
          4,
          1,
          3,
          5,
          5,
          3,
          2,
          4,
          4,
          2,
          5,
          4,
          4,
          4,
          4,
          5,
          5,
          4,
          4,
          5,
          4,
          2,
          5,
          2,
          3,
          5,
          5,
          2,
          5,
          3,
          3,
          3,
          5,
          4,
          4,
          2,
          4,
          4,
          5,
          4,
          5,
          5,
          3,
          2,
          5,
          3,
          4,
          5,
          5,
          5,
          5,
          2,
          3,
          5,
          5,
          4,
          5,
          5,
          5,
          4,
          2,
          5,
          5,
          5,
          5,
          3,
          5,
          5,
          4,
          4,
          5,
          4,
          5,
          5,
          4,
          5,
          5,
          4,
          5,
          2,
          2,
          5,
          3,
          4,
          5,
          5,
          5,
          5,
          5,
          3,
          5,
          2,
          3,
          5
         ],
         "z": [
          0,
          1,
          0,
          0,
          0,
          1,
          1,
          1,
          1,
          0,
          0,
          1,
          0,
          0,
          0,
          1,
          0,
          0,
          1,
          0,
          0,
          0,
          0,
          1,
          0,
          0,
          0,
          0,
          0,
          0,
          0,
          0,
          0,
          0,
          0,
          0,
          0,
          0,
          0,
          0,
          0,
          0,
          1,
          0,
          0,
          1,
          0,
          1,
          0,
          1,
          0,
          0,
          0,
          0,
          0,
          0,
          1,
          1,
          0,
          0,
          0,
          1,
          1,
          0,
          0,
          0,
          0,
          1,
          0,
          0,
          1,
          0,
          1,
          0,
          0,
          1,
          0,
          0,
          0,
          0,
          0,
          0,
          0,
          0,
          0,
          0,
          1,
          1,
          0,
          0,
          0,
          1,
          0,
          0,
          0,
          1,
          0,
          0,
          1,
          0,
          1,
          0,
          1,
          0,
          0,
          0,
          0,
          0,
          0,
          0,
          0,
          0,
          0,
          0,
          0,
          1,
          0,
          0,
          1,
          1,
          0,
          0,
          0,
          0,
          0,
          0,
          0,
          0,
          1,
          0,
          1,
          0,
          0,
          1,
          0,
          0,
          1,
          0,
          1,
          0,
          0,
          1,
          1,
          1,
          1,
          0,
          0,
          1,
          0,
          0,
          0,
          0,
          0,
          0,
          0,
          0,
          0,
          1,
          0,
          0,
          0,
          0,
          0,
          0,
          0,
          0,
          0,
          0,
          1,
          0,
          1,
          0,
          1,
          1,
          0,
          0,
          0,
          0,
          1,
          1,
          0,
          0,
          0,
          0,
          0,
          0,
          0,
          1,
          0,
          0,
          0,
          0,
          0,
          0,
          0,
          0,
          0,
          0,
          0,
          0,
          0,
          0,
          1,
          1,
          0,
          0,
          1,
          1,
          0,
          0,
          0,
          0,
          1,
          0,
          0,
          0,
          0,
          1,
          1,
          0,
          0,
          0,
          1,
          0,
          1,
          0,
          0,
          0,
          0,
          0,
          0,
          0,
          0,
          1,
          0,
          0,
          0,
          0,
          0,
          0,
          1,
          0,
          0,
          0,
          0,
          0,
          0,
          0,
          0,
          1,
          0,
          0,
          1,
          0,
          0,
          0,
          1,
          1,
          1,
          0,
          0,
          1,
          1,
          0,
          1,
          0,
          0,
          0,
          1,
          0,
          1,
          0,
          0,
          0,
          0,
          0,
          1,
          1,
          0,
          1,
          0,
          0,
          1,
          1,
          1,
          0,
          1,
          1,
          1,
          0,
          0,
          0,
          0,
          1,
          0,
          0,
          0,
          1,
          1,
          0,
          0,
          1,
          0,
          1,
          0,
          1,
          0,
          0,
          1,
          0,
          0,
          0,
          0,
          0,
          1,
          0,
          0,
          0,
          0,
          0,
          0,
          0,
          0,
          1,
          0,
          0,
          0,
          0,
          0,
          0,
          0,
          0,
          0,
          0,
          0,
          0,
          1,
          0,
          0,
          0,
          0,
          1,
          0,
          0,
          1,
          1,
          0,
          0,
          0,
          0,
          1,
          0,
          0,
          1,
          1,
          0,
          0,
          0,
          0,
          0,
          0,
          0,
          0,
          0,
          1,
          0,
          0,
          0,
          0,
          1,
          1,
          1,
          0,
          0,
          0,
          0,
          0,
          1,
          0,
          0,
          0,
          0,
          0,
          1,
          1,
          0,
          1,
          0,
          0,
          0,
          0,
          0,
          0,
          0,
          1,
          1,
          0,
          1,
          0,
          0,
          0,
          0,
          0,
          1,
          0,
          0,
          0,
          0,
          0,
          0,
          0,
          0,
          1,
          0,
          0,
          0,
          0,
          0,
          1,
          0,
          1,
          0,
          0,
          0,
          0,
          0,
          0,
          0,
          0,
          0,
          0,
          0,
          0,
          1,
          1,
          0,
          1,
          0,
          1,
          0,
          0,
          0,
          0,
          0,
          1,
          0,
          0,
          0,
          0,
          0,
          0,
          0,
          0,
          1,
          0,
          0,
          0,
          0,
          0,
          0,
          0,
          1,
          0,
          0,
          0,
          1,
          0,
          0,
          1,
          0,
          1,
          0,
          0,
          0,
          1,
          1,
          0,
          0,
          0,
          0,
          0,
          1,
          0,
          1,
          1,
          0,
          0,
          0,
          1,
          0,
          0,
          0,
          0,
          1,
          0,
          0,
          0,
          1,
          0,
          0,
          1,
          0,
          0,
          0,
          1,
          0,
          0,
          0,
          0,
          0,
          0,
          0,
          0,
          0,
          0,
          0,
          0,
          0,
          1,
          1,
          1,
          0,
          0,
          0,
          0,
          1,
          1,
          0,
          1,
          0,
          0,
          0,
          0,
          0,
          0,
          0,
          1,
          0,
          0,
          0,
          0,
          0,
          1,
          0,
          1,
          0,
          0,
          0,
          0,
          0,
          1,
          1,
          1,
          0,
          0,
          0,
          0,
          0,
          0,
          0,
          0,
          0,
          0,
          0,
          0,
          0,
          0,
          1,
          0,
          0,
          0,
          0,
          0,
          0,
          0,
          1,
          0,
          0,
          1,
          0,
          0,
          0,
          0,
          1,
          0,
          1,
          0,
          1,
          0,
          0,
          1,
          0,
          0,
          0,
          0,
          0,
          1,
          0,
          0,
          0,
          0
         ]
        }
       ],
       "layout": {
        "coloraxis": {
         "colorbar": {
          "title": {
           "text": "Infidelite"
          }
         },
         "colorscale": [
          [
           0,
           "#0d0887"
          ],
          [
           0.1111111111111111,
           "#46039f"
          ],
          [
           0.2222222222222222,
           "#7201a8"
          ],
          [
           0.3333333333333333,
           "#9c179e"
          ],
          [
           0.4444444444444444,
           "#bd3786"
          ],
          [
           0.5555555555555556,
           "#d8576b"
          ],
          [
           0.6666666666666666,
           "#ed7953"
          ],
          [
           0.7777777777777778,
           "#fb9f3a"
          ],
          [
           0.8888888888888888,
           "#fdca26"
          ],
          [
           1,
           "#f0f921"
          ]
         ]
        },
        "legend": {
         "tracegroupgap": 0
        },
        "margin": {
         "t": 60
        },
        "scene": {
         "domain": {
          "x": [
           0,
           1
          ],
          "y": [
           0,
           1
          ]
         },
         "xaxis": {
          "title": {
           "text": "Religious"
          }
         },
         "yaxis": {
          "title": {
           "text": "RatingMarriage"
          }
         },
         "zaxis": {
          "title": {
           "text": "Infidelite"
          }
         }
        },
        "template": {
         "data": {
          "bar": [
           {
            "error_x": {
             "color": "#2a3f5f"
            },
            "error_y": {
             "color": "#2a3f5f"
            },
            "marker": {
             "line": {
              "color": "#E5ECF6",
              "width": 0.5
             },
             "pattern": {
              "fillmode": "overlay",
              "size": 10,
              "solidity": 0.2
             }
            },
            "type": "bar"
           }
          ],
          "barpolar": [
           {
            "marker": {
             "line": {
              "color": "#E5ECF6",
              "width": 0.5
             },
             "pattern": {
              "fillmode": "overlay",
              "size": 10,
              "solidity": 0.2
             }
            },
            "type": "barpolar"
           }
          ],
          "carpet": [
           {
            "aaxis": {
             "endlinecolor": "#2a3f5f",
             "gridcolor": "white",
             "linecolor": "white",
             "minorgridcolor": "white",
             "startlinecolor": "#2a3f5f"
            },
            "baxis": {
             "endlinecolor": "#2a3f5f",
             "gridcolor": "white",
             "linecolor": "white",
             "minorgridcolor": "white",
             "startlinecolor": "#2a3f5f"
            },
            "type": "carpet"
           }
          ],
          "choropleth": [
           {
            "colorbar": {
             "outlinewidth": 0,
             "ticks": ""
            },
            "type": "choropleth"
           }
          ],
          "contour": [
           {
            "colorbar": {
             "outlinewidth": 0,
             "ticks": ""
            },
            "colorscale": [
             [
              0,
              "#0d0887"
             ],
             [
              0.1111111111111111,
              "#46039f"
             ],
             [
              0.2222222222222222,
              "#7201a8"
             ],
             [
              0.3333333333333333,
              "#9c179e"
             ],
             [
              0.4444444444444444,
              "#bd3786"
             ],
             [
              0.5555555555555556,
              "#d8576b"
             ],
             [
              0.6666666666666666,
              "#ed7953"
             ],
             [
              0.7777777777777778,
              "#fb9f3a"
             ],
             [
              0.8888888888888888,
              "#fdca26"
             ],
             [
              1,
              "#f0f921"
             ]
            ],
            "type": "contour"
           }
          ],
          "contourcarpet": [
           {
            "colorbar": {
             "outlinewidth": 0,
             "ticks": ""
            },
            "type": "contourcarpet"
           }
          ],
          "heatmap": [
           {
            "colorbar": {
             "outlinewidth": 0,
             "ticks": ""
            },
            "colorscale": [
             [
              0,
              "#0d0887"
             ],
             [
              0.1111111111111111,
              "#46039f"
             ],
             [
              0.2222222222222222,
              "#7201a8"
             ],
             [
              0.3333333333333333,
              "#9c179e"
             ],
             [
              0.4444444444444444,
              "#bd3786"
             ],
             [
              0.5555555555555556,
              "#d8576b"
             ],
             [
              0.6666666666666666,
              "#ed7953"
             ],
             [
              0.7777777777777778,
              "#fb9f3a"
             ],
             [
              0.8888888888888888,
              "#fdca26"
             ],
             [
              1,
              "#f0f921"
             ]
            ],
            "type": "heatmap"
           }
          ],
          "heatmapgl": [
           {
            "colorbar": {
             "outlinewidth": 0,
             "ticks": ""
            },
            "colorscale": [
             [
              0,
              "#0d0887"
             ],
             [
              0.1111111111111111,
              "#46039f"
             ],
             [
              0.2222222222222222,
              "#7201a8"
             ],
             [
              0.3333333333333333,
              "#9c179e"
             ],
             [
              0.4444444444444444,
              "#bd3786"
             ],
             [
              0.5555555555555556,
              "#d8576b"
             ],
             [
              0.6666666666666666,
              "#ed7953"
             ],
             [
              0.7777777777777778,
              "#fb9f3a"
             ],
             [
              0.8888888888888888,
              "#fdca26"
             ],
             [
              1,
              "#f0f921"
             ]
            ],
            "type": "heatmapgl"
           }
          ],
          "histogram": [
           {
            "marker": {
             "pattern": {
              "fillmode": "overlay",
              "size": 10,
              "solidity": 0.2
             }
            },
            "type": "histogram"
           }
          ],
          "histogram2d": [
           {
            "colorbar": {
             "outlinewidth": 0,
             "ticks": ""
            },
            "colorscale": [
             [
              0,
              "#0d0887"
             ],
             [
              0.1111111111111111,
              "#46039f"
             ],
             [
              0.2222222222222222,
              "#7201a8"
             ],
             [
              0.3333333333333333,
              "#9c179e"
             ],
             [
              0.4444444444444444,
              "#bd3786"
             ],
             [
              0.5555555555555556,
              "#d8576b"
             ],
             [
              0.6666666666666666,
              "#ed7953"
             ],
             [
              0.7777777777777778,
              "#fb9f3a"
             ],
             [
              0.8888888888888888,
              "#fdca26"
             ],
             [
              1,
              "#f0f921"
             ]
            ],
            "type": "histogram2d"
           }
          ],
          "histogram2dcontour": [
           {
            "colorbar": {
             "outlinewidth": 0,
             "ticks": ""
            },
            "colorscale": [
             [
              0,
              "#0d0887"
             ],
             [
              0.1111111111111111,
              "#46039f"
             ],
             [
              0.2222222222222222,
              "#7201a8"
             ],
             [
              0.3333333333333333,
              "#9c179e"
             ],
             [
              0.4444444444444444,
              "#bd3786"
             ],
             [
              0.5555555555555556,
              "#d8576b"
             ],
             [
              0.6666666666666666,
              "#ed7953"
             ],
             [
              0.7777777777777778,
              "#fb9f3a"
             ],
             [
              0.8888888888888888,
              "#fdca26"
             ],
             [
              1,
              "#f0f921"
             ]
            ],
            "type": "histogram2dcontour"
           }
          ],
          "mesh3d": [
           {
            "colorbar": {
             "outlinewidth": 0,
             "ticks": ""
            },
            "type": "mesh3d"
           }
          ],
          "parcoords": [
           {
            "line": {
             "colorbar": {
              "outlinewidth": 0,
              "ticks": ""
             }
            },
            "type": "parcoords"
           }
          ],
          "pie": [
           {
            "automargin": true,
            "type": "pie"
           }
          ],
          "scatter": [
           {
            "marker": {
             "colorbar": {
              "outlinewidth": 0,
              "ticks": ""
             }
            },
            "type": "scatter"
           }
          ],
          "scatter3d": [
           {
            "line": {
             "colorbar": {
              "outlinewidth": 0,
              "ticks": ""
             }
            },
            "marker": {
             "colorbar": {
              "outlinewidth": 0,
              "ticks": ""
             }
            },
            "type": "scatter3d"
           }
          ],
          "scattercarpet": [
           {
            "marker": {
             "colorbar": {
              "outlinewidth": 0,
              "ticks": ""
             }
            },
            "type": "scattercarpet"
           }
          ],
          "scattergeo": [
           {
            "marker": {
             "colorbar": {
              "outlinewidth": 0,
              "ticks": ""
             }
            },
            "type": "scattergeo"
           }
          ],
          "scattergl": [
           {
            "marker": {
             "colorbar": {
              "outlinewidth": 0,
              "ticks": ""
             }
            },
            "type": "scattergl"
           }
          ],
          "scattermapbox": [
           {
            "marker": {
             "colorbar": {
              "outlinewidth": 0,
              "ticks": ""
             }
            },
            "type": "scattermapbox"
           }
          ],
          "scatterpolar": [
           {
            "marker": {
             "colorbar": {
              "outlinewidth": 0,
              "ticks": ""
             }
            },
            "type": "scatterpolar"
           }
          ],
          "scatterpolargl": [
           {
            "marker": {
             "colorbar": {
              "outlinewidth": 0,
              "ticks": ""
             }
            },
            "type": "scatterpolargl"
           }
          ],
          "scatterternary": [
           {
            "marker": {
             "colorbar": {
              "outlinewidth": 0,
              "ticks": ""
             }
            },
            "type": "scatterternary"
           }
          ],
          "surface": [
           {
            "colorbar": {
             "outlinewidth": 0,
             "ticks": ""
            },
            "colorscale": [
             [
              0,
              "#0d0887"
             ],
             [
              0.1111111111111111,
              "#46039f"
             ],
             [
              0.2222222222222222,
              "#7201a8"
             ],
             [
              0.3333333333333333,
              "#9c179e"
             ],
             [
              0.4444444444444444,
              "#bd3786"
             ],
             [
              0.5555555555555556,
              "#d8576b"
             ],
             [
              0.6666666666666666,
              "#ed7953"
             ],
             [
              0.7777777777777778,
              "#fb9f3a"
             ],
             [
              0.8888888888888888,
              "#fdca26"
             ],
             [
              1,
              "#f0f921"
             ]
            ],
            "type": "surface"
           }
          ],
          "table": [
           {
            "cells": {
             "fill": {
              "color": "#EBF0F8"
             },
             "line": {
              "color": "white"
             }
            },
            "header": {
             "fill": {
              "color": "#C8D4E3"
             },
             "line": {
              "color": "white"
             }
            },
            "type": "table"
           }
          ]
         },
         "layout": {
          "annotationdefaults": {
           "arrowcolor": "#2a3f5f",
           "arrowhead": 0,
           "arrowwidth": 1
          },
          "autotypenumbers": "strict",
          "coloraxis": {
           "colorbar": {
            "outlinewidth": 0,
            "ticks": ""
           }
          },
          "colorscale": {
           "diverging": [
            [
             0,
             "#8e0152"
            ],
            [
             0.1,
             "#c51b7d"
            ],
            [
             0.2,
             "#de77ae"
            ],
            [
             0.3,
             "#f1b6da"
            ],
            [
             0.4,
             "#fde0ef"
            ],
            [
             0.5,
             "#f7f7f7"
            ],
            [
             0.6,
             "#e6f5d0"
            ],
            [
             0.7,
             "#b8e186"
            ],
            [
             0.8,
             "#7fbc41"
            ],
            [
             0.9,
             "#4d9221"
            ],
            [
             1,
             "#276419"
            ]
           ],
           "sequential": [
            [
             0,
             "#0d0887"
            ],
            [
             0.1111111111111111,
             "#46039f"
            ],
            [
             0.2222222222222222,
             "#7201a8"
            ],
            [
             0.3333333333333333,
             "#9c179e"
            ],
            [
             0.4444444444444444,
             "#bd3786"
            ],
            [
             0.5555555555555556,
             "#d8576b"
            ],
            [
             0.6666666666666666,
             "#ed7953"
            ],
            [
             0.7777777777777778,
             "#fb9f3a"
            ],
            [
             0.8888888888888888,
             "#fdca26"
            ],
            [
             1,
             "#f0f921"
            ]
           ],
           "sequentialminus": [
            [
             0,
             "#0d0887"
            ],
            [
             0.1111111111111111,
             "#46039f"
            ],
            [
             0.2222222222222222,
             "#7201a8"
            ],
            [
             0.3333333333333333,
             "#9c179e"
            ],
            [
             0.4444444444444444,
             "#bd3786"
            ],
            [
             0.5555555555555556,
             "#d8576b"
            ],
            [
             0.6666666666666666,
             "#ed7953"
            ],
            [
             0.7777777777777778,
             "#fb9f3a"
            ],
            [
             0.8888888888888888,
             "#fdca26"
            ],
            [
             1,
             "#f0f921"
            ]
           ]
          },
          "colorway": [
           "#636efa",
           "#EF553B",
           "#00cc96",
           "#ab63fa",
           "#FFA15A",
           "#19d3f3",
           "#FF6692",
           "#B6E880",
           "#FF97FF",
           "#FECB52"
          ],
          "font": {
           "color": "#2a3f5f"
          },
          "geo": {
           "bgcolor": "white",
           "lakecolor": "white",
           "landcolor": "#E5ECF6",
           "showlakes": true,
           "showland": true,
           "subunitcolor": "white"
          },
          "hoverlabel": {
           "align": "left"
          },
          "hovermode": "closest",
          "mapbox": {
           "style": "light"
          },
          "paper_bgcolor": "white",
          "plot_bgcolor": "#E5ECF6",
          "polar": {
           "angularaxis": {
            "gridcolor": "white",
            "linecolor": "white",
            "ticks": ""
           },
           "bgcolor": "#E5ECF6",
           "radialaxis": {
            "gridcolor": "white",
            "linecolor": "white",
            "ticks": ""
           }
          },
          "scene": {
           "xaxis": {
            "backgroundcolor": "#E5ECF6",
            "gridcolor": "white",
            "gridwidth": 2,
            "linecolor": "white",
            "showbackground": true,
            "ticks": "",
            "zerolinecolor": "white"
           },
           "yaxis": {
            "backgroundcolor": "#E5ECF6",
            "gridcolor": "white",
            "gridwidth": 2,
            "linecolor": "white",
            "showbackground": true,
            "ticks": "",
            "zerolinecolor": "white"
           },
           "zaxis": {
            "backgroundcolor": "#E5ECF6",
            "gridcolor": "white",
            "gridwidth": 2,
            "linecolor": "white",
            "showbackground": true,
            "ticks": "",
            "zerolinecolor": "white"
           }
          },
          "shapedefaults": {
           "line": {
            "color": "#2a3f5f"
           }
          },
          "ternary": {
           "aaxis": {
            "gridcolor": "white",
            "linecolor": "white",
            "ticks": ""
           },
           "baxis": {
            "gridcolor": "white",
            "linecolor": "white",
            "ticks": ""
           },
           "bgcolor": "#E5ECF6",
           "caxis": {
            "gridcolor": "white",
            "linecolor": "white",
            "ticks": ""
           }
          },
          "title": {
           "x": 0.05
          },
          "xaxis": {
           "automargin": true,
           "gridcolor": "white",
           "linecolor": "white",
           "ticks": "",
           "title": {
            "standoff": 15
           },
           "zerolinecolor": "white",
           "zerolinewidth": 2
          },
          "yaxis": {
           "automargin": true,
           "gridcolor": "white",
           "linecolor": "white",
           "ticks": "",
           "title": {
            "standoff": 15
           },
           "zerolinecolor": "white",
           "zerolinewidth": 2
          }
         }
        }
       }
      }
     },
     "metadata": {},
     "output_type": "display_data"
    }
   ],
   "source": []
  },
  {
   "cell_type": "code",
   "execution_count": 129,
   "metadata": {},
   "outputs": [
    {
     "data": {
      "image/png": "[encoded data removed]",
      "text/plain": [
       "<Figure size 1200x1200 with 2 Axes>"
      ]
     },
     "metadata": {
      "needs_background": "light"
     },
     "output_type": "display_data"
    }
   ],
   "source": [
    "\n",
    "corr_df = df.corr()\n",
    "plt.figure(figsize=(10,10),dpi=120)\n",
    "plt.title(\"Matrice de Correlation\")\n",
    "sns.heatmap(corr_df, annot=True)\n",
    "plt.show()"
   ]
  },
  {
   "cell_type": "code",
   "execution_count": 130,
   "metadata": {},
   "outputs": [
    {
     "data": {
      "text/plain": [
       "(601, 9)"
      ]
     },
     "execution_count": 130,
     "metadata": {},
     "output_type": "execute_result"
    }
   ],
   "source": [
    "df.shape"
   ]
  },
  {
   "cell_type": "code",
   "execution_count": 131,
   "metadata": {},
   "outputs": [
    {
     "data": {
      "text/plain": [
       "<seaborn.axisgrid.PairGrid at 0x16b2b3a30>"
      ]
     },
     "execution_count": 131,
     "metadata": {},
     "output_type": "execute_result"
    },
    {
     "data": {
      "image/png": "[encoded data removed]",
      "text/plain": [
       "<Figure size 1492x1440 with 44 Axes>"
      ]
     },
     "metadata": {
      "needs_background": "light"
     },
     "output_type": "display_data"
    }
   ],
   "source": [
    "\n",
    "sns.pairplot(df,hue='Infidelite',kind='scatter',corner=True)"
   ]
  },
  {
   "cell_type": "markdown",
   "metadata": {
    "colab_type": "text",
    "id": "YvxIPVyMhmKp"
   },
   "source": [
    "## Séparez votre dataset en Train set et Test set"
   ]
  },
  {
   "cell_type": "code",
   "execution_count": 132,
   "metadata": {
    "colab": {},
    "colab_type": "code",
    "id": "AVzJWAXIhxoC"
   },
   "outputs": [],
   "source": [
    "#définissez tout d'abord vos variables : indépendantes/ dependante\n",
    "\n"
   ]
  },
  {
   "cell_type": "code",
   "execution_count": 133,
   "metadata": {
    "colab": {
     "base_uri": "https://localhost:8080/",
     "height": 1000
    },
    "colab_type": "code",
    "executionInfo": {
     "elapsed": 2163,
     "status": "ok",
     "timestamp": 1588265315502,
     "user": {
      "displayName": "Hadelin de Ponteves",
      "photoUrl": "https://lh3.googleusercontent.com/a-/AOh14GhEuXdT7eQweUmRPW8_laJuPggSK6hfvpl5a6WBaA=s64",
      "userId": "15047218817161520419"
     },
     "user_tz": -240
    },
    "id": "P3nS3-6r1i2B",
    "outputId": "75d6e0cf-d13b-42cf-a353-888682415d37"
   },
   "outputs": [],
   "source": [
    "# vérifiez le nombre de données y dans chaque jeu (train et test)\n",
    "X = df.drop(\"Infidelite\", axis=1)\n",
    "y=df[\"Infidelite\"]\n",
    "\n",
    "X_train, X_test, y_train, y_test = train_test_split(X, y,random_state=1,test_size=0.25,stratify=y)"
   ]
  },
  {
   "cell_type": "markdown",
   "metadata": {
    "colab_type": "text",
    "id": "bb6jCOCQiAmP"
   },
   "source": [
    "## Entrainez la regression logistique sur votre train set"
   ]
  },
  {
   "cell_type": "code",
   "execution_count": 134,
   "metadata": {
    "colab": {
     "base_uri": "https://localhost:8080/",
     "height": 103
    },
    "colab_type": "code",
    "executionInfo": {
     "elapsed": 2125,
     "status": "ok",
     "timestamp": 1588265315505,
     "user": {
      "displayName": "Hadelin de Ponteves",
      "photoUrl": "https://lh3.googleusercontent.com/a-/AOh14GhEuXdT7eQweUmRPW8_laJuPggSK6hfvpl5a6WBaA=s64",
      "userId": "15047218817161520419"
     },
     "user_tz": -240
    },
    "id": "e0pFVAmciHQs",
    "outputId": "67f64468-abdb-4fe7-cce9-de0037119610"
   },
   "outputs": [
    {
     "name": "stderr",
     "output_type": "stream",
     "text": [
      "/opt/homebrew/Caskroom/miniforge/base/envs/ml/lib/python3.9/site-packages/sklearn/linear_model/_logistic.py:814: ConvergenceWarning:\n",
      "\n",
      "lbfgs failed to converge (status=1):\n",
      "STOP: TOTAL NO. of ITERATIONS REACHED LIMIT.\n",
      "\n",
      "Increase the number of iterations (max_iter) or scale the data as shown in:\n",
      "    https://scikit-learn.org/stable/modules/preprocessing.html\n",
      "Please also refer to the documentation for alternative solver options:\n",
      "    https://scikit-learn.org/stable/modules/linear_model.html#logistic-regression\n",
      "\n"
     ]
    }
   ],
   "source": [
    "#Nous instancions une régression logistique sans pénalité c.-à-d. sans réaliser de régularisation pour l'instant\n",
    "clf = LogisticRegression(random_state=0).fit(X_train, y_train)"
   ]
  },
  {
   "cell_type": "code",
   "execution_count": 135,
   "metadata": {},
   "outputs": [
    {
     "name": "stdout",
     "output_type": "stream",
     "text": [
      "              precision    recall  f1-score   support\n",
      "\n",
      "           0       0.77      0.96      0.85       113\n",
      "           1       0.56      0.13      0.21        38\n",
      "\n",
      "    accuracy                           0.75       151\n",
      "   macro avg       0.66      0.55      0.53       151\n",
      "weighted avg       0.71      0.75      0.69       151\n",
      "\n"
     ]
    }
   ],
   "source": [
    "from sklearn.metrics import classification_report\n",
    "y_pred=clf.predict(X_test)\n",
    "print(classification_report(y_test, y_pred))\n"
   ]
  },
  {
   "cell_type": "code",
   "execution_count": 136,
   "metadata": {},
   "outputs": [
    {
     "data": {
      "text/plain": [
       "array([[109,   4],\n",
       "       [ 33,   5]])"
      ]
     },
     "execution_count": 136,
     "metadata": {},
     "output_type": "execute_result"
    }
   ],
   "source": [
    "\n",
    "cf_matrix = confusion_matrix(y_test, y_pred)\n",
    "cf_matrix"
   ]
  },
  {
   "cell_type": "markdown",
   "metadata": {},
   "source": [
    "Que se passe t - il ? \n",
    "le processus n’a pas convergé alors que le nombre maximal d’itération par défaut est (max_iter = 100).(voir doc)\n",
    "\n",
    "« Scikit-learn » nous propose alors de : \n",
    "- soit augmenter le nombre d’itérations (mais trop de puissance de calcul pour un résultat incertain),\n",
    "- soit de standardiser les données avant de lancer l’algorithme\n",
    "La documentation de la régression logistique sous « scikit-learn » nous indique les différents algorithmes d’optimisation qu’il est susceptible d’utiliser (option « solver »)\n",
    "Ces approches sont sensibles aux différences d’échelles entre les variables, d’où l’indication « scale the data » dans le\n",
    "« warning » envoyé par la méthode fit()"
   ]
  },
  {
   "cell_type": "markdown",
   "metadata": {},
   "source": [
    "### Standardisation des données"
   ]
  },
  {
   "cell_type": "markdown",
   "metadata": {},
   "source": [
    "La doc de la régression logistique sous « scikit-learn » nous indique les différents\n",
    "algorithmes d’optimisation qu’il est susceptible d’utiliser (option « solver »).\n",
    "Ces approches sont\n",
    "sensibles aux différences d’échelles entre les variables, d’où l’indication « scale the data » dans le\n",
    "« warning » envoyé par la méthode fit().\n",
    "\n",
    "Nous allons donc centrer et réduire nos données avant de relancer le modèle"
   ]
  },
  {
   "cell_type": "code",
   "execution_count": 137,
   "metadata": {},
   "outputs": [],
   "source": [
    "#importation de la bibliothèque necessaire à la standardisation\n",
    "from sklearn import preprocessing\n",
    "import scipy as sci\n",
    "#instanciationm\n",
    "scaler_STD = preprocessing.StandardScaler()\n",
    "\n",
    "Xs=scaler_STD.fit_transform(X)\n",
    "\n",
    "\n",
    "\n",
    "Xs_train, Xs_test, ys_train, ys_test = train_test_split(Xs, y,random_state=1,test_size=0.25,stratify=y)\n",
    "\n",
    "\n",
    "#transformation\n",
    "\n",
    "# imprimer les statistiques de descriptions\n",
    "\n",
    "#remarquez que les variables sont bien de moyenne nulle et d’écart-type unitaire."
   ]
  },
  {
   "cell_type": "code",
   "execution_count": 138,
   "metadata": {},
   "outputs": [
    {
     "data": {
      "text/html": [
       "<div>\n",
       "<style scoped>\n",
       "    .dataframe tbody tr th:only-of-type {\n",
       "        vertical-align: middle;\n",
       "    }\n",
       "\n",
       "    .dataframe tbody tr th {\n",
       "        vertical-align: top;\n",
       "    }\n",
       "\n",
       "    .dataframe thead th {\n",
       "        text-align: right;\n",
       "    }\n",
       "</style>\n",
       "<table border=\"1\" class=\"dataframe\">\n",
       "  <thead>\n",
       "    <tr style=\"text-align: right;\">\n",
       "      <th></th>\n",
       "      <th>0</th>\n",
       "      <th>1</th>\n",
       "      <th>2</th>\n",
       "      <th>3</th>\n",
       "      <th>4</th>\n",
       "      <th>5</th>\n",
       "      <th>6</th>\n",
       "      <th>7</th>\n",
       "    </tr>\n",
       "  </thead>\n",
       "  <tbody>\n",
       "    <tr>\n",
       "      <th>count</th>\n",
       "      <td>6.010000e+02</td>\n",
       "      <td>6.010000e+02</td>\n",
       "      <td>6.010000e+02</td>\n",
       "      <td>6.010000e+02</td>\n",
       "      <td>6.010000e+02</td>\n",
       "      <td>6.010000e+02</td>\n",
       "      <td>6.010000e+02</td>\n",
       "      <td>6.010000e+02</td>\n",
       "    </tr>\n",
       "    <tr>\n",
       "      <th>mean</th>\n",
       "      <td>-8.238926e-17</td>\n",
       "      <td>3.310349e-16</td>\n",
       "      <td>4.433503e-17</td>\n",
       "      <td>-2.955669e-17</td>\n",
       "      <td>8.275872e-17</td>\n",
       "      <td>4.729070e-17</td>\n",
       "      <td>1.004927e-16</td>\n",
       "      <td>-9.458140e-17</td>\n",
       "    </tr>\n",
       "    <tr>\n",
       "      <th>std</th>\n",
       "      <td>1.000833e+00</td>\n",
       "      <td>1.000833e+00</td>\n",
       "      <td>1.000833e+00</td>\n",
       "      <td>1.000833e+00</td>\n",
       "      <td>1.000833e+00</td>\n",
       "      <td>1.000833e+00</td>\n",
       "      <td>1.000833e+00</td>\n",
       "      <td>1.000833e+00</td>\n",
       "    </tr>\n",
       "    <tr>\n",
       "      <th>min</th>\n",
       "      <td>-9.528570e-01</td>\n",
       "      <td>-1.614855e+00</td>\n",
       "      <td>-1.446592e+00</td>\n",
       "      <td>-1.585755e+00</td>\n",
       "      <td>-1.814320e+00</td>\n",
       "      <td>-2.985305e+00</td>\n",
       "      <td>-1.757317e+00</td>\n",
       "      <td>-2.659787e+00</td>\n",
       "    </tr>\n",
       "    <tr>\n",
       "      <th>25%</th>\n",
       "      <td>-9.528570e-01</td>\n",
       "      <td>-5.912620e-01</td>\n",
       "      <td>-7.504843e-01</td>\n",
       "      <td>-1.585755e+00</td>\n",
       "      <td>-9.570823e-01</td>\n",
       "      <td>-9.024536e-01</td>\n",
       "      <td>-6.571632e-01</td>\n",
       "      <td>-8.453353e-01</td>\n",
       "    </tr>\n",
       "    <tr>\n",
       "      <th>50%</th>\n",
       "      <td>-9.528570e-01</td>\n",
       "      <td>-5.252873e-02</td>\n",
       "      <td>-2.115621e-01</td>\n",
       "      <td>6.306143e-01</td>\n",
       "      <td>-9.984465e-02</td>\n",
       "      <td>-6.931287e-02</td>\n",
       "      <td>4.429902e-01</td>\n",
       "      <td>6.189062e-02</td>\n",
       "    </tr>\n",
       "    <tr>\n",
       "      <th>75%</th>\n",
       "      <td>1.049475e+00</td>\n",
       "      <td>4.862045e-01</td>\n",
       "      <td>1.225564e+00</td>\n",
       "      <td>6.306143e-01</td>\n",
       "      <td>7.573930e-01</td>\n",
       "      <td>7.638278e-01</td>\n",
       "      <td>9.930669e-01</td>\n",
       "      <td>9.691165e-01</td>\n",
       "    </tr>\n",
       "    <tr>\n",
       "      <th>max</th>\n",
       "      <td>1.049475e+00</td>\n",
       "      <td>2.641138e+00</td>\n",
       "      <td>1.225564e+00</td>\n",
       "      <td>6.306143e-01</td>\n",
       "      <td>1.614631e+00</td>\n",
       "      <td>1.596969e+00</td>\n",
       "      <td>1.543144e+00</td>\n",
       "      <td>9.691165e-01</td>\n",
       "    </tr>\n",
       "  </tbody>\n",
       "</table>\n",
       "</div>"
      ],
      "text/plain": [
       "                  0             1             2             3             4  \\\n",
       "count  6.010000e+02  6.010000e+02  6.010000e+02  6.010000e+02  6.010000e+02   \n",
       "mean  -8.238926e-17  3.310349e-16  4.433503e-17 -2.955669e-17  8.275872e-17   \n",
       "std    1.000833e+00  1.000833e+00  1.000833e+00  1.000833e+00  1.000833e+00   \n",
       "min   -9.528570e-01 -1.614855e+00 -1.446592e+00 -1.585755e+00 -1.814320e+00   \n",
       "25%   -9.528570e-01 -5.912620e-01 -7.504843e-01 -1.585755e+00 -9.570823e-01   \n",
       "50%   -9.528570e-01 -5.252873e-02 -2.115621e-01  6.306143e-01 -9.984465e-02   \n",
       "75%    1.049475e+00  4.862045e-01  1.225564e+00  6.306143e-01  7.573930e-01   \n",
       "max    1.049475e+00  2.641138e+00  1.225564e+00  6.306143e-01  1.614631e+00   \n",
       "\n",
       "                  5             6             7  \n",
       "count  6.010000e+02  6.010000e+02  6.010000e+02  \n",
       "mean   4.729070e-17  1.004927e-16 -9.458140e-17  \n",
       "std    1.000833e+00  1.000833e+00  1.000833e+00  \n",
       "min   -2.985305e+00 -1.757317e+00 -2.659787e+00  \n",
       "25%   -9.024536e-01 -6.571632e-01 -8.453353e-01  \n",
       "50%   -6.931287e-02  4.429902e-01  6.189062e-02  \n",
       "75%    7.638278e-01  9.930669e-01  9.691165e-01  \n",
       "max    1.596969e+00  1.543144e+00  9.691165e-01  "
      ]
     },
     "execution_count": 138,
     "metadata": {},
     "output_type": "execute_result"
    }
   ],
   "source": [
    "Xs=pd.DataFrame(Xs)\n",
    "Xs.describe()"
   ]
  },
  {
   "cell_type": "code",
   "execution_count": 139,
   "metadata": {},
   "outputs": [],
   "source": [
    "#quelles sont les valeurs que peuvent prendre y ? essayer avec attribute_classes\n",
    "\n"
   ]
  },
  {
   "cell_type": "code",
   "execution_count": null,
   "metadata": {},
   "outputs": [],
   "source": [
    "\n"
   ]
  },
  {
   "cell_type": "markdown",
   "metadata": {},
   "source": [
    "### relancez votre modèle"
   ]
  },
  {
   "cell_type": "code",
   "execution_count": 140,
   "metadata": {},
   "outputs": [
    {
     "name": "stdout",
     "output_type": "stream",
     "text": [
      "[[ 0.05631017 -0.21480604  0.33525087  0.13662509 -0.3273311   0.10482022\n",
      "   0.0920115  -0.53916101]]\n"
     ]
    },
    {
     "data": {
      "text/plain": [
       "array([ 0.05631017, -0.21480604,  0.33525087,  0.13662509, -0.3273311 ,\n",
       "        0.10482022,  0.0920115 , -0.53916101])"
      ]
     },
     "execution_count": 140,
     "metadata": {},
     "output_type": "execute_result"
    }
   ],
   "source": [
    "clf.fit(Xs_train,ys_train)\n",
    "print(clf.coef_)\n",
    "clf.coef_[0]"
   ]
  },
  {
   "cell_type": "code",
   "execution_count": 141,
   "metadata": {},
   "outputs": [
    {
     "data": {
      "text/plain": [
       "array([0.49941757, 9.28103073, 5.56666619, 0.45118828, 1.16653769,\n",
       "       2.40055494, 1.81792835, 1.10226132])"
      ]
     },
     "execution_count": 141,
     "metadata": {},
     "output_type": "execute_result"
    }
   ],
   "source": [
    "# relancez le modèle avec les nouvelles valeurs standardisées\n",
    "\n",
    "#affichez les coefficients\n",
    "scaler_STD.scale_"
   ]
  },
  {
   "cell_type": "markdown",
   "metadata": {},
   "source": [
    "### Dé-standardisation des coefficients\n",
    "\n",
    "ATTENTION ! nous travaillons sur des données transformées. Nous devons les « dé-standardiser » en les divisant par les écarts-type des variables.\n"
   ]
  },
  {
   "cell_type": "code",
   "execution_count": 142,
   "metadata": {},
   "outputs": [
    {
     "data": {
      "text/plain": [
       "array([ 0.11275169, -0.02314463,  0.06022471,  0.30281169, -0.28060054,\n",
       "        0.043665  ,  0.05061338, -0.48914082])"
      ]
     },
     "execution_count": 142,
     "metadata": {},
     "output_type": "execute_result"
    }
   ],
   "source": [
    "#correction des coefficients -\n",
    "#  dé-standardisationpar les écarts-type utilisés lors de la standardisation des variables\n",
    "\n",
    "coefUnstd = clf.coef_[0] / scaler_STD.scale_\n",
    "coefUnstd\n",
    "\n",
    "#affichage des coefficients corrigés\n"
   ]
  },
  {
   "cell_type": "code",
   "execution_count": 143,
   "metadata": {},
   "outputs": [
    {
     "name": "stdout",
     "output_type": "stream",
     "text": [
      "[0.63469439]\n"
     ]
    }
   ],
   "source": [
    "# on fait de même pour la constante (l'ordonnée à l'origine)\n",
    "interceptUnStd =clf.intercept_ + np.sum(clf.coef_[0]*(-scaler_STD.mean_/scaler_STD.scale_))\n",
    "print(interceptUnStd)\n"
   ]
  },
  {
   "cell_type": "code",
   "execution_count": null,
   "metadata": {},
   "outputs": [],
   "source": []
  },
  {
   "cell_type": "markdown",
   "metadata": {
    "colab_type": "text",
    "id": "yyxW5b395mR2"
   },
   "source": [
    "## Faites des prédictions des résultats du train set"
   ]
  },
  {
   "cell_type": "code",
   "execution_count": 144,
   "metadata": {
    "colab": {
     "base_uri": "https://localhost:8080/",
     "height": 34
    },
    "colab_type": "code",
    "executionInfo": {
     "elapsed": 2118,
     "status": "ok",
     "timestamp": 1588265315505,
     "user": {
      "displayName": "Hadelin de Ponteves",
      "photoUrl": "https://lh3.googleusercontent.com/a-/AOh14GhEuXdT7eQweUmRPW8_laJuPggSK6hfvpl5a6WBaA=s64",
      "userId": "15047218817161520419"
     },
     "user_tz": -240
    },
    "id": "f8YOXsQy58rP",
    "outputId": "2e1b0063-548e-4924-cf3a-93a79d97e35e"
   },
   "outputs": [
    {
     "data": {
      "text/plain": [
       "array([[0.77135348, 0.22864652],\n",
       "       [0.73199927, 0.26800073],\n",
       "       [0.85446143, 0.14553857],\n",
       "       [0.91982805, 0.08017195],\n",
       "       [0.92778171, 0.07221829]])"
      ]
     },
     "execution_count": 144,
     "metadata": {},
     "output_type": "execute_result"
    }
   ],
   "source": [
    "# calcul des probabilités d'affectation\n",
    "\n",
    "# on affiche les 5 premières valeurs prédites\n",
    "\n",
    "y_p_pred=clf.predict_proba(Xs_test)\n",
    "y_p_pred[:5]"
   ]
  },
  {
   "cell_type": "markdown",
   "metadata": {},
   "source": [
    "On observe 2 colonnes : la première correspond au proba d'appartenir à Y=0 et la seconde à Y=1"
   ]
  },
  {
   "cell_type": "code",
   "execution_count": 145,
   "metadata": {
    "colab": {
     "base_uri": "https://localhost:8080/",
     "height": 34
    },
    "colab_type": "code",
    "executionInfo": {
     "elapsed": 2118,
     "status": "ok",
     "timestamp": 1588265315505,
     "user": {
      "displayName": "Hadelin de Ponteves",
      "photoUrl": "https://lh3.googleusercontent.com/a-/AOh14GhEuXdT7eQweUmRPW8_laJuPggSK6hfvpl5a6WBaA=s64",
      "userId": "15047218817161520419"
     },
     "user_tz": -240
    },
    "id": "f8YOXsQy58rP",
    "outputId": "2e1b0063-548e-4924-cf3a-93a79d97e35e"
   },
   "outputs": [
    {
     "data": {
      "text/plain": [
       "array([[0, 0],\n",
       "       [0, 0],\n",
       "       [0, 0],\n",
       "       [0, 0],\n",
       "       [0, 0],\n",
       "       [0, 1],\n",
       "       [0, 0],\n",
       "       [0, 0],\n",
       "       [0, 1],\n",
       "       [0, 0],\n",
       "       [0, 0],\n",
       "       [0, 1],\n",
       "       [0, 0],\n",
       "       [0, 0],\n",
       "       [0, 0],\n",
       "       [0, 0],\n",
       "       [0, 0],\n",
       "       [0, 1],\n",
       "       [0, 1],\n",
       "       [0, 0],\n",
       "       [0, 0],\n",
       "       [0, 0],\n",
       "       [0, 1],\n",
       "       [1, 1],\n",
       "       [0, 0],\n",
       "       [0, 0],\n",
       "       [0, 0],\n",
       "       [0, 0],\n",
       "       [0, 0],\n",
       "       [0, 0],\n",
       "       [1, 1],\n",
       "       [0, 0],\n",
       "       [0, 0],\n",
       "       [0, 0],\n",
       "       [0, 0],\n",
       "       [0, 0],\n",
       "       [0, 0],\n",
       "       [0, 0],\n",
       "       [0, 0],\n",
       "       [0, 1],\n",
       "       [0, 1],\n",
       "       [0, 0],\n",
       "       [1, 0],\n",
       "       [0, 1],\n",
       "       [0, 1],\n",
       "       [0, 0],\n",
       "       [0, 0],\n",
       "       [0, 0],\n",
       "       [0, 1],\n",
       "       [0, 0],\n",
       "       [0, 0],\n",
       "       [0, 0],\n",
       "       [0, 1],\n",
       "       [0, 1],\n",
       "       [0, 0],\n",
       "       [0, 0],\n",
       "       [0, 0],\n",
       "       [0, 0],\n",
       "       [0, 1],\n",
       "       [1, 1],\n",
       "       [0, 1],\n",
       "       [0, 0],\n",
       "       [0, 0],\n",
       "       [0, 1],\n",
       "       [0, 0],\n",
       "       [0, 1],\n",
       "       [0, 1],\n",
       "       [0, 1],\n",
       "       [0, 0],\n",
       "       [0, 0],\n",
       "       [0, 0],\n",
       "       [0, 1],\n",
       "       [0, 0],\n",
       "       [0, 0],\n",
       "       [0, 0],\n",
       "       [0, 0],\n",
       "       [0, 1],\n",
       "       [0, 0],\n",
       "       [0, 0],\n",
       "       [0, 0],\n",
       "       [0, 0],\n",
       "       [0, 0],\n",
       "       [0, 1],\n",
       "       [0, 0],\n",
       "       [0, 0],\n",
       "       [0, 0],\n",
       "       [0, 0],\n",
       "       [0, 0],\n",
       "       [0, 0],\n",
       "       [0, 1],\n",
       "       [0, 0],\n",
       "       [1, 1],\n",
       "       [0, 0],\n",
       "       [0, 0],\n",
       "       [0, 1],\n",
       "       [0, 0],\n",
       "       [0, 1],\n",
       "       [0, 0],\n",
       "       [0, 0],\n",
       "       [0, 0],\n",
       "       [0, 1],\n",
       "       [0, 1],\n",
       "       [1, 0],\n",
       "       [0, 0],\n",
       "       [0, 0],\n",
       "       [1, 0],\n",
       "       [0, 0],\n",
       "       [0, 0],\n",
       "       [0, 0],\n",
       "       [0, 0],\n",
       "       [0, 0],\n",
       "       [0, 0],\n",
       "       [0, 1],\n",
       "       [0, 0],\n",
       "       [0, 1],\n",
       "       [0, 0],\n",
       "       [0, 0],\n",
       "       [0, 0],\n",
       "       [0, 0],\n",
       "       [0, 0],\n",
       "       [0, 0],\n",
       "       [0, 0],\n",
       "       [0, 0],\n",
       "       [0, 0],\n",
       "       [0, 0],\n",
       "       [0, 1],\n",
       "       [0, 0],\n",
       "       [1, 1],\n",
       "       [0, 0],\n",
       "       [1, 0],\n",
       "       [0, 0],\n",
       "       [0, 0],\n",
       "       [0, 0],\n",
       "       [0, 1],\n",
       "       [0, 0],\n",
       "       [0, 0],\n",
       "       [0, 0],\n",
       "       [0, 1],\n",
       "       [0, 0],\n",
       "       [0, 0],\n",
       "       [0, 0],\n",
       "       [0, 0],\n",
       "       [0, 0],\n",
       "       [0, 0],\n",
       "       [0, 0],\n",
       "       [0, 0],\n",
       "       [0, 0],\n",
       "       [0, 0],\n",
       "       [0, 0],\n",
       "       [0, 1],\n",
       "       [0, 0]])"
      ]
     },
     "execution_count": 145,
     "metadata": {},
     "output_type": "execute_result"
    }
   ],
   "source": [
    "#et on les compare au\n",
    "## x valeurs attendues\n",
    "np.c_[y_pred,ys_test]"
   ]
  },
  {
   "cell_type": "code",
   "execution_count": null,
   "metadata": {},
   "outputs": [],
   "source": []
  },
  {
   "cell_type": "markdown",
   "metadata": {
    "colab_type": "text",
    "id": "vKYVQH-l5NpE"
   },
   "source": [
    "## Faites des prédictions des résultats du test set"
   ]
  },
  {
   "cell_type": "code",
   "execution_count": null,
   "metadata": {},
   "outputs": [],
   "source": []
  },
  {
   "cell_type": "code",
   "execution_count": 146,
   "metadata": {
    "colab": {
     "base_uri": "https://localhost:8080/",
     "height": 1000
    },
    "colab_type": "code",
    "executionInfo": {
     "elapsed": 2112,
     "status": "ok",
     "timestamp": 1588265315506,
     "user": {
      "displayName": "Hadelin de Ponteves",
      "photoUrl": "https://lh3.googleusercontent.com/a-/AOh14GhEuXdT7eQweUmRPW8_laJuPggSK6hfvpl5a6WBaA=s64",
      "userId": "15047218817161520419"
     },
     "user_tz": -240
    },
    "id": "p6VMTb2O4hwM",
    "outputId": "a4f03a97-2942-45cd-f735-f4063277a96c"
   },
   "outputs": [],
   "source": [
    "# nous devons appliquer la même standardisation sur les valeurs du test set ! \n",
    "\n",
    "#transformation de l'échantillon test\n",
    "\n",
    "\n",
    "#stat. descriptives\n",
    "#print(sci.stats.describe(X1_test,axis=0,ddof=0))\n",
    "\n",
    "# on applique le modèle à l'échantillon\n",
    "\n",
    "\n"
   ]
  },
  {
   "cell_type": "markdown",
   "metadata": {
    "colab_type": "text",
    "id": "h4Hwj34ziWQW"
   },
   "source": [
    "## Evaluez les performances du modèle à l'aide de la matrice de confusion "
   ]
  },
  {
   "cell_type": "code",
   "execution_count": 166,
   "metadata": {
    "colab": {
     "base_uri": "https://localhost:8080/",
     "height": 68
    },
    "colab_type": "code",
    "executionInfo": {
     "elapsed": 2107,
     "status": "ok",
     "timestamp": 1588265315506,
     "user": {
      "displayName": "Hadelin de Ponteves",
      "photoUrl": "https://lh3.googleusercontent.com/a-/AOh14GhEuXdT7eQweUmRPW8_laJuPggSK6hfvpl5a6WBaA=s64",
      "userId": "15047218817161520419"
     },
     "user_tz": -240
    },
    "id": "D6bpZwUiiXic",
    "outputId": "f202fcb3-5882-4d93-e5df-50791185067e"
   },
   "outputs": [
    {
     "data": {
      "text/plain": [
       "<AxesSubplot:>"
      ]
     },
     "execution_count": 166,
     "metadata": {},
     "output_type": "execute_result"
    },
    {
     "data": {
      "image/png": "[encoded data removed]",
      "text/plain": [
       "<Figure size 1350x1350 with 2 Axes>"
      ]
     },
     "metadata": {
      "needs_background": "light"
     },
     "output_type": "display_data"
    }
   ],
   "source": [
    "# affichez la matrice de confusion\n",
    "cm = confusion_matrix(ys_test, y_pred)\n",
    "plt.figure(figsize=(15,15),dpi=90)\n",
    "sns.set(font_scale=1.4)\n",
    "sns.heatmap(cm, annot=True,fmt='g', cmap='Blues')\n"
   ]
  },
  {
   "cell_type": "markdown",
   "metadata": {},
   "source": [
    "- Combien y a t-il de faux positifs ? combien de faux négatifs ?\n",
    "    Il y a 37 faux positifs\n",
    "- Combien d'éléments sont bien classés? \n",
    "- représentez la matrice de confusion sous la forme d'une heatmap"
   ]
  },
  {
   "cell_type": "code",
   "execution_count": 148,
   "metadata": {
    "colab": {
     "base_uri": "https://localhost:8080/",
     "height": 68
    },
    "colab_type": "code",
    "executionInfo": {
     "elapsed": 2107,
     "status": "ok",
     "timestamp": 1588265315506,
     "user": {
      "displayName": "Hadelin de Ponteves",
      "photoUrl": "https://lh3.googleusercontent.com/a-/AOh14GhEuXdT7eQweUmRPW8_laJuPggSK6hfvpl5a6WBaA=s64",
      "userId": "15047218817161520419"
     },
     "user_tz": -240
    },
    "id": "D6bpZwUiiXic",
    "outputId": "f202fcb3-5882-4d93-e5df-50791185067e"
   },
   "outputs": [],
   "source": [
    "#affichez le taux d'erreur\n"
   ]
  },
  {
   "cell_type": "code",
   "execution_count": 149,
   "metadata": {},
   "outputs": [
    {
     "name": "stdout",
     "output_type": "stream",
     "text": [
      "standardisation : \n",
      "              precision    recall  f1-score   support\n",
      "\n",
      "           0       0.77      0.96      0.85       113\n",
      "           1       0.56      0.13      0.21        38\n",
      "\n",
      "    accuracy                           0.75       151\n",
      "   macro avg       0.66      0.55      0.53       151\n",
      "weighted avg       0.71      0.75      0.69       151\n",
      "\n"
     ]
    }
   ],
   "source": [
    "#affichez le rapport de classification\n",
    "\n",
    "print(f\"standardisation : \\n{classification_report(ys_test, y_pred)}\")"
   ]
  },
  {
   "cell_type": "markdown",
   "metadata": {
    "colab_type": "text",
    "id": "6OMC_P0diaoD"
   },
   "source": [
    "# Utilisons Maintenant Stats.models"
   ]
  },
  {
   "cell_type": "markdown",
   "metadata": {},
   "source": [
    "## import des librairies"
   ]
  },
  {
   "cell_type": "code",
   "execution_count": 150,
   "metadata": {},
   "outputs": [
    {
     "name": "stderr",
     "output_type": "stream",
     "text": [
      "/opt/homebrew/Caskroom/miniforge/base/envs/ml/lib/python3.9/site-packages/statsmodels/compat/pandas.py:65: FutureWarning:\n",
      "\n",
      "pandas.Int64Index is deprecated and will be removed from pandas in a future version. Use pandas.Index with the appropriate dtype instead.\n",
      "\n"
     ]
    }
   ],
   "source": [
    "#importez la librairie adéquate\n",
    "import numpy as np\n",
    "import statsmodels.api as sm\n",
    "from statsmodels.api import Logit"
   ]
  },
  {
   "cell_type": "markdown",
   "metadata": {},
   "source": [
    "## Preparez votre dataset"
   ]
  },
  {
   "cell_type": "code",
   "execution_count": 151,
   "metadata": {},
   "outputs": [],
   "source": [
    "#attention StatsModels ne prend pas en compte l'ordonnée àl'origine 𝑏₀! \n",
    "# vous devez inclure la colonne supplémentaire de \"1\" dans x. \n",
    "#faites cela avec add_constant ():\n",
    "\n",
    "from statsmodels.tools import add_constant\n",
    "\n",
    "#données X avec la constante\n",
    "\n",
    "#vérifier la structure, vous devez bien avoir une colonne en plus\n",
    "\n"
   ]
  },
  {
   "cell_type": "markdown",
   "metadata": {},
   "source": [
    "## Entrainez votre modèle"
   ]
  },
  {
   "cell_type": "code",
   "execution_count": 152,
   "metadata": {},
   "outputs": [],
   "source": [
    "# Créez votre modèle de régression logistique \n",
    "\n",
    "#lancez les calculs\n"
   ]
  },
  {
   "cell_type": "code",
   "execution_count": 153,
   "metadata": {},
   "outputs": [],
   "source": [
    "#pour accéder aux valeurs des coefficients, utilisez .params\n",
    "#Obtenez vous les même résulats que précedemment? \n"
   ]
  },
  {
   "cell_type": "code",
   "execution_count": 154,
   "metadata": {},
   "outputs": [],
   "source": [
    "# affichez le rapport des metriques avec stat.model. Il est possible d'utiliser .summary() soit .summary2()\n",
    "#pour plus d'infos : https://www.statsmodels.org/stable/generated/statsmodels.discrete.discrete_model.LogitResults.html"
   ]
  },
  {
   "cell_type": "markdown",
   "metadata": {},
   "source": [
    "## Faites des prédictions des résultats du test set"
   ]
  },
  {
   "cell_type": "code",
   "execution_count": 155,
   "metadata": {},
   "outputs": [],
   "source": [
    "#affichez les probabilités de prédiction\n"
   ]
  },
  {
   "cell_type": "code",
   "execution_count": 156,
   "metadata": {},
   "outputs": [],
   "source": [
    "#utilisez les pour afficher les valeurs de y en ayant établi un seuil à 0.5\n"
   ]
  },
  {
   "cell_type": "markdown",
   "metadata": {},
   "source": [
    "## Evaluez les performances du modèle à l'aide de la matrice de confusion"
   ]
  },
  {
   "cell_type": "code",
   "execution_count": 157,
   "metadata": {},
   "outputs": [],
   "source": [
    "#obtenez la matrice de confusion avec crosstable\n"
   ]
  },
  {
   "cell_type": "code",
   "execution_count": 158,
   "metadata": {},
   "outputs": [],
   "source": [
    "#calculez également le taux de reconnaissance et le taux d'erreur  : (taux d'erreur = 1- taux de reconnaissance)\n",
    "\n",
    "\n",
    "#taux d'erreur\n"
   ]
  },
  {
   "cell_type": "markdown",
   "metadata": {},
   "source": [
    "Obtenez vous bien les même résultats que précédement ?"
   ]
  },
  {
   "cell_type": "markdown",
   "metadata": {},
   "source": [
    "## Evaluez les performances du modèle à l'aide du diagramme de fiabilité\n",
    "\n",
    "\n",
    "Le diagramme de fiabilité est un outil de diagnostic graphique. Il oppose les proba d'affectation à la valeur \"Y=1\" estimés par le modèle(appelés scores)  aux affectations observées. S’ils forment une droite, nous pouvons considérer que la modélisation est\n",
    "pertinente car le modèle arrive à approcher de manière satisfaisante l’appartenance aux classes des\n",
    "individus.\n",
    "\n",
    "Voici les principales étapes de la construction du diagramme de fiabilité :\n",
    "1. Appliquer le classifier sur les données pour obtenir le score.\n",
    "2. Trier le fichier selon le score croissant.\n",
    "3. Sur la base du score, subdiviser les données en intervalles (ex. 0.0-0.2, 0.2-0.4, etc.).\n",
    "4. Dans chaque intervalle, calculer la proportion de positifs.\n",
    "5. Dans le même temps, toujours dans chaque intervalle, calculer la moyenne des scores.\n",
    "6. Si les chiffres concordent dans chaque intervalle, les scores sont bien calibrés, le classifieur est de bonne qualité.\n",
    "7. Nous pouvons résumer l'information dans un graphique nuage de points appelé diagramme de fiabilité, avec en abcisse la moyenne des scores, en ordonnée la proportion de \"positifs\".\n",
    "8. Si les scores sont bien calibrés, les points devraient être alignés sur une droite, la première bissectrice.\n",
    "9. Les points s'écartant sensiblement de la première bissectrice doivent attirer notre attention"
   ]
  },
  {
   "cell_type": "code",
   "execution_count": 159,
   "metadata": {},
   "outputs": [],
   "source": [
    "# on cré un tableau temporaire avec les valeurs de y observées et les scores\n"
   ]
  },
  {
   "cell_type": "code",
   "execution_count": 160,
   "metadata": {},
   "outputs": [],
   "source": [
    "# on sépare les scores en 5 intervalles de largeur égales\n",
    "\n",
    "#et on les intègre dans le df\n",
    "\n"
   ]
  },
  {
   "cell_type": "code",
   "execution_count": 161,
   "metadata": {},
   "outputs": [],
   "source": [
    "# on calcule la moyenne des scores dans chaque groupe à l'aide de pivot_table\n"
   ]
  },
  {
   "cell_type": "code",
   "execution_count": 162,
   "metadata": {},
   "outputs": [],
   "source": [
    "# puis la moyenne des y observés\n",
    "\n"
   ]
  },
  {
   "cell_type": "code",
   "execution_count": 163,
   "metadata": {},
   "outputs": [
    {
     "data": {
      "image/png": "[encoded data removed]",
      "text/plain": [
       "<Figure size 432x288 with 1 Axes>"
      ]
     },
     "metadata": {
      "needs_background": "light"
     },
     "output_type": "display_data"
    }
   ],
   "source": [
    "# on construit le diagramme \n",
    "#en faisant apparaitre la diagonale\n",
    "\n",
    "#et en ajoutant notre diagramme\n",
    "\n",
    "#titre\n",
    "plt.title(\"Diagramme de fiabilité\")\n",
    "#tracé\n",
    "plt.show()\n"
   ]
  },
  {
   "cell_type": "markdown",
   "metadata": {},
   "source": [
    "les points sont tout de même éloignés de la bissectrice, le modèle peut être amélioré"
   ]
  },
  {
   "cell_type": "markdown",
   "metadata": {},
   "source": [
    "## Evaluez les performances du modèle à l'aide de la courbe ROC"
   ]
  },
  {
   "cell_type": "markdown",
   "metadata": {},
   "source": [
    "Pour évaluer un modèle le taux d’erreur semble être un indicateur synthétique pertinent, il indique (estime) la probabilité de mal classer un individu de la population.\n",
    "Les autres indicateurs sont très intéressants également (sensibilité/rappel,précision/spécificité) mais obligent à surveiller plusieurs valeurs simultanément.\n",
    "\n",
    "Mais lorsque les classes sont très déséquilibrées, la matrice de confusion et surtout le\n",
    "taux d’erreur donnent souvent une fausse idée de la qualité de l’apprentissage. Doù l'intérêt de la courbe ROC!\n",
    "les résultats qu'elle fournit sont valables même si l'échantillon n'est pas représentatif\n",
    "\n",
    "cas du modèle qui ne fait pas mieux que l’affectation des probabilités\n",
    "- notre courbe ne doit pas passer en dessous\n",
    "- plus il s’en écarte vers le haut, mieux c’est"
   ]
  },
  {
   "cell_type": "code",
   "execution_count": 164,
   "metadata": {},
   "outputs": [],
   "source": [
    "# on utilise roc_curve (scikit- learn )\n",
    "# on trace la diagonale de référence\n",
    "#fpr (false positive rate -- taux de faux positifs) en abscisse\n",
    "#tpr (true positive rate – taux de vrais positifs) en ordonnée\n",
    "#pos_label = 1 pour indiquer la modalité cible\n"
   ]
  },
  {
   "cell_type": "code",
   "execution_count": 165,
   "metadata": {},
   "outputs": [],
   "source": [
    "# on calcule l'aire sous la courbe en faisant appel à la fonction roc_auc_score()\n"
   ]
  },
  {
   "cell_type": "markdown",
   "metadata": {},
   "source": [
    "## Ajustez votre modèle"
   ]
  },
  {
   "cell_type": "markdown",
   "metadata": {},
   "source": [
    "## Selection des variables au regard de leur significativité : approche statistique "
   ]
  },
  {
   "cell_type": "markdown",
   "metadata": {},
   "source": [
    "### Via le test du rapport de vraisemblance"
   ]
  },
  {
   "cell_type": "code",
   "execution_count": null,
   "metadata": {},
   "outputs": [],
   "source": []
  }
 ],
 "metadata": {
  "colab": {
   "authorship_tag": "ABX9TyOsvB/iqEjYj3VN6C/JbvkE",
   "collapsed_sections": [],
   "machine_shape": "hm",
   "name": "logistic_regression.ipynb",
   "provenance": [],
   "toc_visible": true
  },
  "kernelspec": {
   "display_name": "Python 3",
   "language": "python",
   "name": "python3"
  },
  "language_info": {
   "codemirror_mode": {
    "name": "ipython",
    "version": 3
   },
   "file_extension": ".py",
   "mimetype": "text/x-python",
   "name": "python",
   "nbconvert_exporter": "python",
   "pygments_lexer": "ipython3",
   "version": "3.9.9"
  }
 },
 "nbformat": 4,
 "nbformat_minor": 1
}
